{
  "nbformat": 4,
  "nbformat_minor": 0,
  "metadata": {
    "kernelspec": {
      "display_name": "Python 3",
      "language": "python",
      "name": "python3"
    },
    "language_info": {
      "codemirror_mode": {
        "name": "ipython",
        "version": 3
      },
      "file_extension": ".py",
      "mimetype": "text/x-python",
      "name": "python",
      "nbconvert_exporter": "python",
      "pygments_lexer": "ipython3",
      "version": "3.7.6"
    },
    "colab": {
      "name": "Peer Assignment 9.4_Introduction.ipynb",
      "provenance": []
    }
  },
  "cells": [
    {
      "cell_type": "markdown",
      "metadata": {
        "id": "Q0VfqFzff4hu",
        "colab_type": "text"
      },
      "source": [
        "## Business Context:\n",
        "\n",
        "###### A Bank wants to develop a customer segmentation to define marketing strategy. The sample dataset summarizes the usage behaviour of about 9000 active credit card holders during the last 6 months. The file at customer level includes Transaction frequency, amount, tenure etc.\n",
        "\n",
        "## Business Requirements:\n",
        "\n",
        "###### Bank Marketing team would like to leverage ML to launch target ad campaign that is tailored to specific group of customers.Based on this group or Market segments, marketing strategy will be formed.\n",
        "\n",
        "###### Following Parameters would help maketing team to formulate better strategy,\n",
        "\n",
        "* Monthly average spend\n",
        "* Purchases type (EMI etc)\n",
        "* Average amount per purchase.\n",
        "* Clustering segments of credit card holders\n",
        "* Provide the strategic insights and implementation of strategies for given set of cluster characteristics."
      ]
    },
    {
      "cell_type": "markdown",
      "metadata": {
        "id": "MK7oiokDf4hw",
        "colab_type": "text"
      },
      "source": [
        "## Data Dictionary:\n",
        "\n",
        "\n",
        "* CUST_ID: Credit card holder ID\n",
        "* BALANCE: Monthly average balance (based on daily balance averages)\n",
        "* BALANCE_FREQUENCY: Ratio of last 12 months with balance\n",
        "* PURCHASES: Total purchase amount spent during last 12 months\n",
        "* ONEOFF_PURCHASES: Total amount of one-off purchases\n",
        "* INSTALLMENTS_PURCHASES: Total amount of installment purchases\n",
        "* CASH_ADVANCE: Total cash-advance amount\n",
        "* PURCHASES_ FREQUENCY: Frequency of purchases (Percent of months with at least one purchase)\n",
        "* ONEOFF_PURCHASES_FREQUENCY: Frequency of one-off-purchases PURCHASES_INSTALLMENTS_FREQUENCY: Frequency of installment purchases\n",
        "* CASH_ADVANCE_ FREQUENCY: Cash-Advance frequency\n",
        "* AVERAGE_PURCHASE_TRX: Average amount per purchase transaction\n",
        "* CASH_ADVANCE_TRX: Average amount per cash-advance transaction\n",
        "* PURCHASES_TRX: Average amount per purchase transaction\n",
        "* CREDIT_LIMIT: Credit limit\n",
        "* PAYMENTS: Total payments (due amount paid by the customer to decrease their statement balance) in the period\n",
        "* MINIMUM_PAYMENTS: Total minimum payments due in the period.\n",
        "* PRC_FULL_PAYMEN: Percentage of months with full payment of the due statement balance\n",
        "* TENURE: Number of months as a customer"
      ]
    },
    {
      "cell_type": "code",
      "metadata": {
        "id": "lzkpe_o7gBYa",
        "colab_type": "code",
        "colab": {}
      },
      "source": [
        ""
      ],
      "execution_count": null,
      "outputs": []
    }
  ]
}