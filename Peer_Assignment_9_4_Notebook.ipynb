{
  "nbformat": 4,
  "nbformat_minor": 0,
  "metadata": {
    "kernelspec": {
      "display_name": "Python 3",
      "language": "python",
      "name": "python3"
    },
    "language_info": {
      "codemirror_mode": {
        "name": "ipython",
        "version": 3
      },
      "file_extension": ".py",
      "mimetype": "text/x-python",
      "name": "python",
      "nbconvert_exporter": "python",
      "pygments_lexer": "ipython3",
      "version": "3.7.6"
    },
    "colab": {
      "name": "Peer Assignment 9.4_Notebook.ipynb",
      "provenance": [],
      "include_colab_link": true
    }
  },
  "cells": [
    {
      "cell_type": "markdown",
      "metadata": {
        "id": "view-in-github",
        "colab_type": "text"
      },
      "source": [
        "<a href=\"https://colab.research.google.com/github/mrugeshhs/Capstone9.4.5/blob/master/Peer_Assignment_9_4_Notebook.ipynb\" target=\"_parent\"><img src=\"https://colab.research.google.com/assets/colab-badge.svg\" alt=\"Open In Colab\"/></a>"
      ]
    },
    {
      "cell_type": "markdown",
      "metadata": {
        "id": "Q0VfqFzff4hu",
        "colab_type": "text"
      },
      "source": [
        "## Business Context:\n",
        "\n",
        "###### A Bank wants to develop a customer segmentation to define marketing strategy. The sample dataset summarizes the usage behaviour of about 9000 active credit card holders during the last 6 months. The file at customer level includes Transaction frequency, amount, tenure etc.\n",
        "\n",
        "## Business Requirements:\n",
        "\n",
        "###### Bank Marketing team would like to leverage ML to launch target ad campaign that is tailored to specific group of customers.Based on this group or Market segments, marketing strategy will be formed.\n",
        "\n",
        "###### Following Parameters would help maketing team to formulate better strategy,\n",
        "\n",
        "* Monthly average spend\n",
        "* Purchases type (EMI etc)\n",
        "* Average amount per purchase.\n",
        "* Clustering segments of credit card holders\n",
        "* Provide the strategic insights and implementation of strategies for given set of cluster characteristics."
      ]
    },
    {
      "cell_type": "markdown",
      "metadata": {
        "id": "MK7oiokDf4hw",
        "colab_type": "text"
      },
      "source": [
        "## Data Dictionary:\n",
        "\n",
        "\n",
        "* CUST_ID: Credit card holder ID\n",
        "* BALANCE: Monthly average balance (based on daily balance averages)\n",
        "* BALANCE_FREQUENCY: Ratio of last 12 months with balance\n",
        "* PURCHASES: Total purchase amount spent during last 12 months\n",
        "* ONEOFF_PURCHASES: Total amount of one-off purchases\n",
        "* INSTALLMENTS_PURCHASES: Total amount of installment purchases\n",
        "* CASH_ADVANCE: Total cash-advance amount\n",
        "* PURCHASES_ FREQUENCY: Frequency of purchases (Percent of months with at least one purchase)\n",
        "* ONEOFF_PURCHASES_FREQUENCY: Frequency of one-off-purchases PURCHASES_INSTALLMENTS_FREQUENCY: Frequency of installment purchases\n",
        "* CASH_ADVANCE_ FREQUENCY: Cash-Advance frequency\n",
        "* AVERAGE_PURCHASE_TRX: Average amount per purchase transaction\n",
        "* CASH_ADVANCE_TRX: Average amount per cash-advance transaction\n",
        "* PURCHASES_TRX: Average amount per purchase transaction\n",
        "* CREDIT_LIMIT: Credit limit\n",
        "* PAYMENTS: Total payments (due amount paid by the customer to decrease their statement balance) in the period\n",
        "* MINIMUM_PAYMENTS: Total minimum payments due in the period.\n",
        "* PRC_FULL_PAYMEN: Percentage of months with full payment of the due statement balance\n",
        "* TENURE: Number of months as a customer"
      ]
    },
    {
      "cell_type": "code",
      "metadata": {
        "id": "lzkpe_o7gBYa",
        "colab_type": "code",
        "colab": {
          "base_uri": "https://localhost:8080/",
          "height": 71
        },
        "outputId": "a7f56643-4e51-4fd7-cf29-b205551e2641"
      },
      "source": [
        "#Basic python library which need to import\n",
        "import pandas as pd\n",
        "import numpy as np\n",
        "\n",
        "#Date stuff\n",
        "from datetime import datetime\n",
        "from datetime import timedelta\n",
        "\n",
        "#Library for Nice graphing\n",
        "import seaborn as sns\n",
        "import matplotlib.pyplot as plt\n",
        "import statsmodels.formula.api as sn\n",
        "%matplotlib inline\n",
        "\n",
        "#Library for statistics operation\n",
        "import scipy.stats as stats\n",
        "\n",
        "# Date Time library\n",
        "from datetime import datetime\n",
        "\n",
        "#Machine learning Library\n",
        "import statsmodels.api as sm\n",
        "from sklearn import metrics\n",
        "from sklearn.model_selection import train_test_split\n",
        "from sklearn.linear_model import LinearRegression\n",
        "from sklearn.ensemble import RandomForestRegressor\n",
        "from sklearn.tree import DecisionTreeRegressor\n",
        "from sklearn.ensemble import AdaBoostRegressor\n",
        "from sklearn.ensemble import GradientBoostingRegressor\n",
        "from sklearn.svm import SVC, LinearSVC\n",
        "from sklearn.metrics import mean_squared_error as mse\n",
        "from sklearn.metrics import mean_absolute_error, mean_squared_error\n",
        "\n",
        "# Ignore warnings\n",
        "import warnings\n",
        "warnings.filterwarnings('ignore')\n",
        "\n",
        "# Settings\n",
        "pd.set_option('display.max_columns', None)\n",
        "#np.set_printoptions(threshold=sys.maxsize)\n",
        "np.set_printoptions(precision=3)\n",
        "sns.set(style=\"darkgrid\")\n",
        "plt.rcParams['axes.labelsize'] = 14\n",
        "plt.rcParams['xtick.labelsize'] = 12\n",
        "plt.rcParams['ytick.labelsize'] = 12"
      ],
      "execution_count": 3,
      "outputs": [
        {
          "output_type": "stream",
          "text": [
            "/usr/local/lib/python3.6/dist-packages/statsmodels/tools/_testing.py:19: FutureWarning: pandas.util.testing is deprecated. Use the functions in the public API at pandas.testing instead.\n",
            "  import pandas.util.testing as tm\n"
          ],
          "name": "stderr"
        }
      ]
    },
    {
      "cell_type": "markdown",
      "metadata": {
        "id": "a24ZhxrFow7p",
        "colab_type": "text"
      },
      "source": [
        "### Import Data"
      ]
    },
    {
      "cell_type": "code",
      "metadata": {
        "id": "DB-vADVWneQ3",
        "colab_type": "code",
        "colab": {}
      },
      "source": [
        "# reading data into dataframe\n",
        "credit= pd.read_csv(\"/content/sample_data/marketing_data.csv\")"
      ],
      "execution_count": 5,
      "outputs": []
    },
    {
      "cell_type": "markdown",
      "metadata": {
        "id": "Hb7O5AoBpO7S",
        "colab_type": "text"
      },
      "source": [
        "### Info on Data"
      ]
    },
    {
      "cell_type": "code",
      "metadata": {
        "id": "Kq-q_XpKpSRE",
        "colab_type": "code",
        "colab": {
          "base_uri": "https://localhost:8080/",
          "height": 224
        },
        "outputId": "a4dff6bb-e4a3-4ea5-f53c-e3669154de45"
      },
      "source": [
        "credit.head()"
      ],
      "execution_count": 6,
      "outputs": [
        {
          "output_type": "execute_result",
          "data": {
            "text/html": [
              "<div>\n",
              "<style scoped>\n",
              "    .dataframe tbody tr th:only-of-type {\n",
              "        vertical-align: middle;\n",
              "    }\n",
              "\n",
              "    .dataframe tbody tr th {\n",
              "        vertical-align: top;\n",
              "    }\n",
              "\n",
              "    .dataframe thead th {\n",
              "        text-align: right;\n",
              "    }\n",
              "</style>\n",
              "<table border=\"1\" class=\"dataframe\">\n",
              "  <thead>\n",
              "    <tr style=\"text-align: right;\">\n",
              "      <th></th>\n",
              "      <th>CUST_ID</th>\n",
              "      <th>BALANCE</th>\n",
              "      <th>BALANCE_FREQUENCY</th>\n",
              "      <th>PURCHASES</th>\n",
              "      <th>ONEOFF_PURCHASES</th>\n",
              "      <th>INSTALLMENTS_PURCHASES</th>\n",
              "      <th>CASH_ADVANCE</th>\n",
              "      <th>PURCHASES_FREQUENCY</th>\n",
              "      <th>ONEOFF_PURCHASES_FREQUENCY</th>\n",
              "      <th>PURCHASES_INSTALLMENTS_FREQUENCY</th>\n",
              "      <th>CASH_ADVANCE_FREQUENCY</th>\n",
              "      <th>CASH_ADVANCE_TRX</th>\n",
              "      <th>PURCHASES_TRX</th>\n",
              "      <th>CREDIT_LIMIT</th>\n",
              "      <th>PAYMENTS</th>\n",
              "      <th>MINIMUM_PAYMENTS</th>\n",
              "      <th>PRC_FULL_PAYMENT</th>\n",
              "      <th>TENURE</th>\n",
              "    </tr>\n",
              "  </thead>\n",
              "  <tbody>\n",
              "    <tr>\n",
              "      <th>0</th>\n",
              "      <td>C10001</td>\n",
              "      <td>40.900749</td>\n",
              "      <td>0.818182</td>\n",
              "      <td>95.40</td>\n",
              "      <td>0.00</td>\n",
              "      <td>95.4</td>\n",
              "      <td>0.000000</td>\n",
              "      <td>0.166667</td>\n",
              "      <td>0.000000</td>\n",
              "      <td>0.083333</td>\n",
              "      <td>0.000000</td>\n",
              "      <td>0</td>\n",
              "      <td>2</td>\n",
              "      <td>1000.0</td>\n",
              "      <td>201.802084</td>\n",
              "      <td>139.509787</td>\n",
              "      <td>0.000000</td>\n",
              "      <td>12</td>\n",
              "    </tr>\n",
              "    <tr>\n",
              "      <th>1</th>\n",
              "      <td>C10002</td>\n",
              "      <td>3202.467416</td>\n",
              "      <td>0.909091</td>\n",
              "      <td>0.00</td>\n",
              "      <td>0.00</td>\n",
              "      <td>0.0</td>\n",
              "      <td>6442.945483</td>\n",
              "      <td>0.000000</td>\n",
              "      <td>0.000000</td>\n",
              "      <td>0.000000</td>\n",
              "      <td>0.250000</td>\n",
              "      <td>4</td>\n",
              "      <td>0</td>\n",
              "      <td>7000.0</td>\n",
              "      <td>4103.032597</td>\n",
              "      <td>1072.340217</td>\n",
              "      <td>0.222222</td>\n",
              "      <td>12</td>\n",
              "    </tr>\n",
              "    <tr>\n",
              "      <th>2</th>\n",
              "      <td>C10003</td>\n",
              "      <td>2495.148862</td>\n",
              "      <td>1.000000</td>\n",
              "      <td>773.17</td>\n",
              "      <td>773.17</td>\n",
              "      <td>0.0</td>\n",
              "      <td>0.000000</td>\n",
              "      <td>1.000000</td>\n",
              "      <td>1.000000</td>\n",
              "      <td>0.000000</td>\n",
              "      <td>0.000000</td>\n",
              "      <td>0</td>\n",
              "      <td>12</td>\n",
              "      <td>7500.0</td>\n",
              "      <td>622.066742</td>\n",
              "      <td>627.284787</td>\n",
              "      <td>0.000000</td>\n",
              "      <td>12</td>\n",
              "    </tr>\n",
              "    <tr>\n",
              "      <th>3</th>\n",
              "      <td>C10004</td>\n",
              "      <td>1666.670542</td>\n",
              "      <td>0.636364</td>\n",
              "      <td>1499.00</td>\n",
              "      <td>1499.00</td>\n",
              "      <td>0.0</td>\n",
              "      <td>205.788017</td>\n",
              "      <td>0.083333</td>\n",
              "      <td>0.083333</td>\n",
              "      <td>0.000000</td>\n",
              "      <td>0.083333</td>\n",
              "      <td>1</td>\n",
              "      <td>1</td>\n",
              "      <td>7500.0</td>\n",
              "      <td>0.000000</td>\n",
              "      <td>NaN</td>\n",
              "      <td>0.000000</td>\n",
              "      <td>12</td>\n",
              "    </tr>\n",
              "    <tr>\n",
              "      <th>4</th>\n",
              "      <td>C10005</td>\n",
              "      <td>817.714335</td>\n",
              "      <td>1.000000</td>\n",
              "      <td>16.00</td>\n",
              "      <td>16.00</td>\n",
              "      <td>0.0</td>\n",
              "      <td>0.000000</td>\n",
              "      <td>0.083333</td>\n",
              "      <td>0.083333</td>\n",
              "      <td>0.000000</td>\n",
              "      <td>0.000000</td>\n",
              "      <td>0</td>\n",
              "      <td>1</td>\n",
              "      <td>1200.0</td>\n",
              "      <td>678.334763</td>\n",
              "      <td>244.791237</td>\n",
              "      <td>0.000000</td>\n",
              "      <td>12</td>\n",
              "    </tr>\n",
              "  </tbody>\n",
              "</table>\n",
              "</div>"
            ],
            "text/plain": [
              "  CUST_ID      BALANCE  BALANCE_FREQUENCY  PURCHASES  ONEOFF_PURCHASES  \\\n",
              "0  C10001    40.900749           0.818182      95.40              0.00   \n",
              "1  C10002  3202.467416           0.909091       0.00              0.00   \n",
              "2  C10003  2495.148862           1.000000     773.17            773.17   \n",
              "3  C10004  1666.670542           0.636364    1499.00           1499.00   \n",
              "4  C10005   817.714335           1.000000      16.00             16.00   \n",
              "\n",
              "   INSTALLMENTS_PURCHASES  CASH_ADVANCE  PURCHASES_FREQUENCY  \\\n",
              "0                    95.4      0.000000             0.166667   \n",
              "1                     0.0   6442.945483             0.000000   \n",
              "2                     0.0      0.000000             1.000000   \n",
              "3                     0.0    205.788017             0.083333   \n",
              "4                     0.0      0.000000             0.083333   \n",
              "\n",
              "   ONEOFF_PURCHASES_FREQUENCY  PURCHASES_INSTALLMENTS_FREQUENCY  \\\n",
              "0                    0.000000                          0.083333   \n",
              "1                    0.000000                          0.000000   \n",
              "2                    1.000000                          0.000000   \n",
              "3                    0.083333                          0.000000   \n",
              "4                    0.083333                          0.000000   \n",
              "\n",
              "   CASH_ADVANCE_FREQUENCY  CASH_ADVANCE_TRX  PURCHASES_TRX  CREDIT_LIMIT  \\\n",
              "0                0.000000                 0              2        1000.0   \n",
              "1                0.250000                 4              0        7000.0   \n",
              "2                0.000000                 0             12        7500.0   \n",
              "3                0.083333                 1              1        7500.0   \n",
              "4                0.000000                 0              1        1200.0   \n",
              "\n",
              "      PAYMENTS  MINIMUM_PAYMENTS  PRC_FULL_PAYMENT  TENURE  \n",
              "0   201.802084        139.509787          0.000000      12  \n",
              "1  4103.032597       1072.340217          0.222222      12  \n",
              "2   622.066742        627.284787          0.000000      12  \n",
              "3     0.000000               NaN          0.000000      12  \n",
              "4   678.334763        244.791237          0.000000      12  "
            ]
          },
          "metadata": {
            "tags": []
          },
          "execution_count": 6
        }
      ]
    },
    {
      "cell_type": "code",
      "metadata": {
        "id": "lbOKTW0NpW5f",
        "colab_type": "code",
        "colab": {
          "base_uri": "https://localhost:8080/",
          "height": 442
        },
        "outputId": "dc66f723-3ef5-4236-a9b8-6b77f156780a"
      },
      "source": [
        "credit.info()"
      ],
      "execution_count": 7,
      "outputs": [
        {
          "output_type": "stream",
          "text": [
            "<class 'pandas.core.frame.DataFrame'>\n",
            "RangeIndex: 8950 entries, 0 to 8949\n",
            "Data columns (total 18 columns):\n",
            " #   Column                            Non-Null Count  Dtype  \n",
            "---  ------                            --------------  -----  \n",
            " 0   CUST_ID                           8950 non-null   object \n",
            " 1   BALANCE                           8950 non-null   float64\n",
            " 2   BALANCE_FREQUENCY                 8950 non-null   float64\n",
            " 3   PURCHASES                         8950 non-null   float64\n",
            " 4   ONEOFF_PURCHASES                  8950 non-null   float64\n",
            " 5   INSTALLMENTS_PURCHASES            8950 non-null   float64\n",
            " 6   CASH_ADVANCE                      8950 non-null   float64\n",
            " 7   PURCHASES_FREQUENCY               8950 non-null   float64\n",
            " 8   ONEOFF_PURCHASES_FREQUENCY        8950 non-null   float64\n",
            " 9   PURCHASES_INSTALLMENTS_FREQUENCY  8950 non-null   float64\n",
            " 10  CASH_ADVANCE_FREQUENCY            8950 non-null   float64\n",
            " 11  CASH_ADVANCE_TRX                  8950 non-null   int64  \n",
            " 12  PURCHASES_TRX                     8950 non-null   int64  \n",
            " 13  CREDIT_LIMIT                      8949 non-null   float64\n",
            " 14  PAYMENTS                          8950 non-null   float64\n",
            " 15  MINIMUM_PAYMENTS                  8637 non-null   float64\n",
            " 16  PRC_FULL_PAYMENT                  8950 non-null   float64\n",
            " 17  TENURE                            8950 non-null   int64  \n",
            "dtypes: float64(14), int64(3), object(1)\n",
            "memory usage: 1.2+ MB\n"
          ],
          "name": "stdout"
        }
      ]
    },
    {
      "cell_type": "code",
      "metadata": {
        "id": "wUg6s5cipkBF",
        "colab_type": "code",
        "colab": {
          "base_uri": "https://localhost:8080/",
          "height": 408
        },
        "outputId": "7e3363c7-6a48-48c3-dbdd-0d6374239bea"
      },
      "source": [
        "# Find the total number of missing values in the dataframe\n",
        "print (\"\\nMissing values :  \", credit.isnull().sum().values.sum())\n",
        "\n",
        "# printing total numbers of Unique value in the dataframe. \n",
        "print (\"\\nUnique values :  \\n\",credit.nunique())"
      ],
      "execution_count": 8,
      "outputs": [
        {
          "output_type": "stream",
          "text": [
            "\n",
            "Missing values :   314\n",
            "\n",
            "Unique values :  \n",
            " CUST_ID                             8950\n",
            "BALANCE                             8871\n",
            "BALANCE_FREQUENCY                     43\n",
            "PURCHASES                           6203\n",
            "ONEOFF_PURCHASES                    4014\n",
            "INSTALLMENTS_PURCHASES              4452\n",
            "CASH_ADVANCE                        4323\n",
            "PURCHASES_FREQUENCY                   47\n",
            "ONEOFF_PURCHASES_FREQUENCY            47\n",
            "PURCHASES_INSTALLMENTS_FREQUENCY      47\n",
            "CASH_ADVANCE_FREQUENCY                54\n",
            "CASH_ADVANCE_TRX                      65\n",
            "PURCHASES_TRX                        173\n",
            "CREDIT_LIMIT                         205\n",
            "PAYMENTS                            8711\n",
            "MINIMUM_PAYMENTS                    8636\n",
            "PRC_FULL_PAYMENT                      47\n",
            "TENURE                                 7\n",
            "dtype: int64\n"
          ],
          "name": "stdout"
        }
      ]
    },
    {
      "cell_type": "code",
      "metadata": {
        "id": "C0q6VnoUpphd",
        "colab_type": "code",
        "colab": {
          "base_uri": "https://localhost:8080/",
          "height": 34
        },
        "outputId": "d86f3055-7201-435a-ada2-539d55edd8cd"
      },
      "source": [
        "credit.shape"
      ],
      "execution_count": 9,
      "outputs": [
        {
          "output_type": "execute_result",
          "data": {
            "text/plain": [
              "(8950, 18)"
            ]
          },
          "metadata": {
            "tags": []
          },
          "execution_count": 9
        }
      ]
    },
    {
      "cell_type": "code",
      "metadata": {
        "id": "_C15YKCNp6Ot",
        "colab_type": "code",
        "colab": {
          "base_uri": "https://localhost:8080/",
          "height": 317
        },
        "outputId": "ecea72c2-5720-421a-95fa-39e3dbb9cf59"
      },
      "source": [
        "# Intital descriptive analysis of data.\n",
        "credit.describe()"
      ],
      "execution_count": 10,
      "outputs": [
        {
          "output_type": "execute_result",
          "data": {
            "text/html": [
              "<div>\n",
              "<style scoped>\n",
              "    .dataframe tbody tr th:only-of-type {\n",
              "        vertical-align: middle;\n",
              "    }\n",
              "\n",
              "    .dataframe tbody tr th {\n",
              "        vertical-align: top;\n",
              "    }\n",
              "\n",
              "    .dataframe thead th {\n",
              "        text-align: right;\n",
              "    }\n",
              "</style>\n",
              "<table border=\"1\" class=\"dataframe\">\n",
              "  <thead>\n",
              "    <tr style=\"text-align: right;\">\n",
              "      <th></th>\n",
              "      <th>BALANCE</th>\n",
              "      <th>BALANCE_FREQUENCY</th>\n",
              "      <th>PURCHASES</th>\n",
              "      <th>ONEOFF_PURCHASES</th>\n",
              "      <th>INSTALLMENTS_PURCHASES</th>\n",
              "      <th>CASH_ADVANCE</th>\n",
              "      <th>PURCHASES_FREQUENCY</th>\n",
              "      <th>ONEOFF_PURCHASES_FREQUENCY</th>\n",
              "      <th>PURCHASES_INSTALLMENTS_FREQUENCY</th>\n",
              "      <th>CASH_ADVANCE_FREQUENCY</th>\n",
              "      <th>CASH_ADVANCE_TRX</th>\n",
              "      <th>PURCHASES_TRX</th>\n",
              "      <th>CREDIT_LIMIT</th>\n",
              "      <th>PAYMENTS</th>\n",
              "      <th>MINIMUM_PAYMENTS</th>\n",
              "      <th>PRC_FULL_PAYMENT</th>\n",
              "      <th>TENURE</th>\n",
              "    </tr>\n",
              "  </thead>\n",
              "  <tbody>\n",
              "    <tr>\n",
              "      <th>count</th>\n",
              "      <td>8950.000000</td>\n",
              "      <td>8950.000000</td>\n",
              "      <td>8950.000000</td>\n",
              "      <td>8950.000000</td>\n",
              "      <td>8950.000000</td>\n",
              "      <td>8950.000000</td>\n",
              "      <td>8950.000000</td>\n",
              "      <td>8950.000000</td>\n",
              "      <td>8950.000000</td>\n",
              "      <td>8950.000000</td>\n",
              "      <td>8950.000000</td>\n",
              "      <td>8950.000000</td>\n",
              "      <td>8949.000000</td>\n",
              "      <td>8950.000000</td>\n",
              "      <td>8637.000000</td>\n",
              "      <td>8950.000000</td>\n",
              "      <td>8950.000000</td>\n",
              "    </tr>\n",
              "    <tr>\n",
              "      <th>mean</th>\n",
              "      <td>1564.474828</td>\n",
              "      <td>0.877271</td>\n",
              "      <td>1003.204834</td>\n",
              "      <td>592.437371</td>\n",
              "      <td>411.067645</td>\n",
              "      <td>978.871112</td>\n",
              "      <td>0.490351</td>\n",
              "      <td>0.202458</td>\n",
              "      <td>0.364437</td>\n",
              "      <td>0.135144</td>\n",
              "      <td>3.248827</td>\n",
              "      <td>14.709832</td>\n",
              "      <td>4494.449450</td>\n",
              "      <td>1733.143852</td>\n",
              "      <td>864.206542</td>\n",
              "      <td>0.153715</td>\n",
              "      <td>11.517318</td>\n",
              "    </tr>\n",
              "    <tr>\n",
              "      <th>std</th>\n",
              "      <td>2081.531879</td>\n",
              "      <td>0.236904</td>\n",
              "      <td>2136.634782</td>\n",
              "      <td>1659.887917</td>\n",
              "      <td>904.338115</td>\n",
              "      <td>2097.163877</td>\n",
              "      <td>0.401371</td>\n",
              "      <td>0.298336</td>\n",
              "      <td>0.397448</td>\n",
              "      <td>0.200121</td>\n",
              "      <td>6.824647</td>\n",
              "      <td>24.857649</td>\n",
              "      <td>3638.815725</td>\n",
              "      <td>2895.063757</td>\n",
              "      <td>2372.446607</td>\n",
              "      <td>0.292499</td>\n",
              "      <td>1.338331</td>\n",
              "    </tr>\n",
              "    <tr>\n",
              "      <th>min</th>\n",
              "      <td>0.000000</td>\n",
              "      <td>0.000000</td>\n",
              "      <td>0.000000</td>\n",
              "      <td>0.000000</td>\n",
              "      <td>0.000000</td>\n",
              "      <td>0.000000</td>\n",
              "      <td>0.000000</td>\n",
              "      <td>0.000000</td>\n",
              "      <td>0.000000</td>\n",
              "      <td>0.000000</td>\n",
              "      <td>0.000000</td>\n",
              "      <td>0.000000</td>\n",
              "      <td>50.000000</td>\n",
              "      <td>0.000000</td>\n",
              "      <td>0.019163</td>\n",
              "      <td>0.000000</td>\n",
              "      <td>6.000000</td>\n",
              "    </tr>\n",
              "    <tr>\n",
              "      <th>25%</th>\n",
              "      <td>128.281915</td>\n",
              "      <td>0.888889</td>\n",
              "      <td>39.635000</td>\n",
              "      <td>0.000000</td>\n",
              "      <td>0.000000</td>\n",
              "      <td>0.000000</td>\n",
              "      <td>0.083333</td>\n",
              "      <td>0.000000</td>\n",
              "      <td>0.000000</td>\n",
              "      <td>0.000000</td>\n",
              "      <td>0.000000</td>\n",
              "      <td>1.000000</td>\n",
              "      <td>1600.000000</td>\n",
              "      <td>383.276166</td>\n",
              "      <td>169.123707</td>\n",
              "      <td>0.000000</td>\n",
              "      <td>12.000000</td>\n",
              "    </tr>\n",
              "    <tr>\n",
              "      <th>50%</th>\n",
              "      <td>873.385231</td>\n",
              "      <td>1.000000</td>\n",
              "      <td>361.280000</td>\n",
              "      <td>38.000000</td>\n",
              "      <td>89.000000</td>\n",
              "      <td>0.000000</td>\n",
              "      <td>0.500000</td>\n",
              "      <td>0.083333</td>\n",
              "      <td>0.166667</td>\n",
              "      <td>0.000000</td>\n",
              "      <td>0.000000</td>\n",
              "      <td>7.000000</td>\n",
              "      <td>3000.000000</td>\n",
              "      <td>856.901546</td>\n",
              "      <td>312.343947</td>\n",
              "      <td>0.000000</td>\n",
              "      <td>12.000000</td>\n",
              "    </tr>\n",
              "    <tr>\n",
              "      <th>75%</th>\n",
              "      <td>2054.140036</td>\n",
              "      <td>1.000000</td>\n",
              "      <td>1110.130000</td>\n",
              "      <td>577.405000</td>\n",
              "      <td>468.637500</td>\n",
              "      <td>1113.821139</td>\n",
              "      <td>0.916667</td>\n",
              "      <td>0.300000</td>\n",
              "      <td>0.750000</td>\n",
              "      <td>0.222222</td>\n",
              "      <td>4.000000</td>\n",
              "      <td>17.000000</td>\n",
              "      <td>6500.000000</td>\n",
              "      <td>1901.134317</td>\n",
              "      <td>825.485459</td>\n",
              "      <td>0.142857</td>\n",
              "      <td>12.000000</td>\n",
              "    </tr>\n",
              "    <tr>\n",
              "      <th>max</th>\n",
              "      <td>19043.138560</td>\n",
              "      <td>1.000000</td>\n",
              "      <td>49039.570000</td>\n",
              "      <td>40761.250000</td>\n",
              "      <td>22500.000000</td>\n",
              "      <td>47137.211760</td>\n",
              "      <td>1.000000</td>\n",
              "      <td>1.000000</td>\n",
              "      <td>1.000000</td>\n",
              "      <td>1.500000</td>\n",
              "      <td>123.000000</td>\n",
              "      <td>358.000000</td>\n",
              "      <td>30000.000000</td>\n",
              "      <td>50721.483360</td>\n",
              "      <td>76406.207520</td>\n",
              "      <td>1.000000</td>\n",
              "      <td>12.000000</td>\n",
              "    </tr>\n",
              "  </tbody>\n",
              "</table>\n",
              "</div>"
            ],
            "text/plain": [
              "            BALANCE  BALANCE_FREQUENCY     PURCHASES  ONEOFF_PURCHASES  \\\n",
              "count   8950.000000        8950.000000   8950.000000       8950.000000   \n",
              "mean    1564.474828           0.877271   1003.204834        592.437371   \n",
              "std     2081.531879           0.236904   2136.634782       1659.887917   \n",
              "min        0.000000           0.000000      0.000000          0.000000   \n",
              "25%      128.281915           0.888889     39.635000          0.000000   \n",
              "50%      873.385231           1.000000    361.280000         38.000000   \n",
              "75%     2054.140036           1.000000   1110.130000        577.405000   \n",
              "max    19043.138560           1.000000  49039.570000      40761.250000   \n",
              "\n",
              "       INSTALLMENTS_PURCHASES  CASH_ADVANCE  PURCHASES_FREQUENCY  \\\n",
              "count             8950.000000   8950.000000          8950.000000   \n",
              "mean               411.067645    978.871112             0.490351   \n",
              "std                904.338115   2097.163877             0.401371   \n",
              "min                  0.000000      0.000000             0.000000   \n",
              "25%                  0.000000      0.000000             0.083333   \n",
              "50%                 89.000000      0.000000             0.500000   \n",
              "75%                468.637500   1113.821139             0.916667   \n",
              "max              22500.000000  47137.211760             1.000000   \n",
              "\n",
              "       ONEOFF_PURCHASES_FREQUENCY  PURCHASES_INSTALLMENTS_FREQUENCY  \\\n",
              "count                 8950.000000                       8950.000000   \n",
              "mean                     0.202458                          0.364437   \n",
              "std                      0.298336                          0.397448   \n",
              "min                      0.000000                          0.000000   \n",
              "25%                      0.000000                          0.000000   \n",
              "50%                      0.083333                          0.166667   \n",
              "75%                      0.300000                          0.750000   \n",
              "max                      1.000000                          1.000000   \n",
              "\n",
              "       CASH_ADVANCE_FREQUENCY  CASH_ADVANCE_TRX  PURCHASES_TRX  CREDIT_LIMIT  \\\n",
              "count             8950.000000       8950.000000    8950.000000   8949.000000   \n",
              "mean                 0.135144          3.248827      14.709832   4494.449450   \n",
              "std                  0.200121          6.824647      24.857649   3638.815725   \n",
              "min                  0.000000          0.000000       0.000000     50.000000   \n",
              "25%                  0.000000          0.000000       1.000000   1600.000000   \n",
              "50%                  0.000000          0.000000       7.000000   3000.000000   \n",
              "75%                  0.222222          4.000000      17.000000   6500.000000   \n",
              "max                  1.500000        123.000000     358.000000  30000.000000   \n",
              "\n",
              "           PAYMENTS  MINIMUM_PAYMENTS  PRC_FULL_PAYMENT       TENURE  \n",
              "count   8950.000000       8637.000000       8950.000000  8950.000000  \n",
              "mean    1733.143852        864.206542          0.153715    11.517318  \n",
              "std     2895.063757       2372.446607          0.292499     1.338331  \n",
              "min        0.000000          0.019163          0.000000     6.000000  \n",
              "25%      383.276166        169.123707          0.000000    12.000000  \n",
              "50%      856.901546        312.343947          0.000000    12.000000  \n",
              "75%     1901.134317        825.485459          0.142857    12.000000  \n",
              "max    50721.483360      76406.207520          1.000000    12.000000  "
            ]
          },
          "metadata": {
            "tags": []
          },
          "execution_count": 10
        }
      ]
    },
    {
      "cell_type": "markdown",
      "metadata": {
        "id": "Rj3d5ZtoqDJL",
        "colab_type": "text"
      },
      "source": [
        "Missing Value Treatment\n",
        "   - Since there are missing values in the data so we are imputing them with median"
      ]
    },
    {
      "cell_type": "code",
      "metadata": {
        "id": "woRMYpPXqH_g",
        "colab_type": "code",
        "colab": {
          "base_uri": "https://localhost:8080/",
          "height": 340
        },
        "outputId": "2cee4b70-b838-483f-cffc-dd256dacc108"
      },
      "source": [
        "credit.isnull().any()"
      ],
      "execution_count": 11,
      "outputs": [
        {
          "output_type": "execute_result",
          "data": {
            "text/plain": [
              "CUST_ID                             False\n",
              "BALANCE                             False\n",
              "BALANCE_FREQUENCY                   False\n",
              "PURCHASES                           False\n",
              "ONEOFF_PURCHASES                    False\n",
              "INSTALLMENTS_PURCHASES              False\n",
              "CASH_ADVANCE                        False\n",
              "PURCHASES_FREQUENCY                 False\n",
              "ONEOFF_PURCHASES_FREQUENCY          False\n",
              "PURCHASES_INSTALLMENTS_FREQUENCY    False\n",
              "CASH_ADVANCE_FREQUENCY              False\n",
              "CASH_ADVANCE_TRX                    False\n",
              "PURCHASES_TRX                       False\n",
              "CREDIT_LIMIT                         True\n",
              "PAYMENTS                            False\n",
              "MINIMUM_PAYMENTS                     True\n",
              "PRC_FULL_PAYMENT                    False\n",
              "TENURE                              False\n",
              "dtype: bool"
            ]
          },
          "metadata": {
            "tags": []
          },
          "execution_count": 11
        }
      ]
    },
    {
      "cell_type": "code",
      "metadata": {
        "id": "1VkPPuc9qKfH",
        "colab_type": "code",
        "colab": {}
      },
      "source": [
        "# CREDIT_LIMIT  and MINIMUM_PAYMENTS has missing values so we need to remove with median.\n",
        "\n",
        "credit['CREDIT_LIMIT'].fillna(credit['CREDIT_LIMIT'].median(),inplace=True)\n",
        "\n",
        "credit['CREDIT_LIMIT'].count()\n",
        "\n",
        "\n",
        "credit['MINIMUM_PAYMENTS'].median()\n",
        "credit['MINIMUM_PAYMENTS'].fillna(credit['MINIMUM_PAYMENTS'].median(),inplace=True)"
      ],
      "execution_count": 12,
      "outputs": []
    },
    {
      "cell_type": "code",
      "metadata": {
        "id": "DD0N-t9hqO-5",
        "colab_type": "code",
        "colab": {
          "base_uri": "https://localhost:8080/",
          "height": 340
        },
        "outputId": "83e4e29a-bf14-4db3-b7ab-dec77308f153"
      },
      "source": [
        "# Now again check the missing values.\n",
        "\n",
        "credit.isnull().any()"
      ],
      "execution_count": 13,
      "outputs": [
        {
          "output_type": "execute_result",
          "data": {
            "text/plain": [
              "CUST_ID                             False\n",
              "BALANCE                             False\n",
              "BALANCE_FREQUENCY                   False\n",
              "PURCHASES                           False\n",
              "ONEOFF_PURCHASES                    False\n",
              "INSTALLMENTS_PURCHASES              False\n",
              "CASH_ADVANCE                        False\n",
              "PURCHASES_FREQUENCY                 False\n",
              "ONEOFF_PURCHASES_FREQUENCY          False\n",
              "PURCHASES_INSTALLMENTS_FREQUENCY    False\n",
              "CASH_ADVANCE_FREQUENCY              False\n",
              "CASH_ADVANCE_TRX                    False\n",
              "PURCHASES_TRX                       False\n",
              "CREDIT_LIMIT                        False\n",
              "PAYMENTS                            False\n",
              "MINIMUM_PAYMENTS                    False\n",
              "PRC_FULL_PAYMENT                    False\n",
              "TENURE                              False\n",
              "dtype: bool"
            ]
          },
          "metadata": {
            "tags": []
          },
          "execution_count": 13
        }
      ]
    },
    {
      "cell_type": "markdown",
      "metadata": {
        "id": "9ysXfTDXqrTF",
        "colab_type": "text"
      },
      "source": [
        "## Analysis"
      ]
    },
    {
      "cell_type": "markdown",
      "metadata": {
        "id": "8B3pZXorqvNo",
        "colab_type": "text"
      },
      "source": [
        "* Monthly_avg_purchase"
      ]
    },
    {
      "cell_type": "code",
      "metadata": {
        "id": "3pSVmzrJqs8O",
        "colab_type": "code",
        "colab": {}
      },
      "source": [
        "credit['Monthly_avg_purchase']=credit['PURCHASES']/credit['TENURE']\n"
      ],
      "execution_count": 14,
      "outputs": []
    },
    {
      "cell_type": "code",
      "metadata": {
        "id": "36TydqvdrUTg",
        "colab_type": "code",
        "colab": {
          "base_uri": "https://localhost:8080/",
          "height": 323
        },
        "outputId": "85ff7932-0761-4807-a853-1dba7361269e"
      },
      "source": [
        "print(credit['Monthly_avg_purchase'].head(),'\\n ',\n",
        "credit['TENURE'].head(),'\\n', credit['PURCHASES'].head())"
      ],
      "execution_count": 15,
      "outputs": [
        {
          "output_type": "stream",
          "text": [
            "0      7.950000\n",
            "1      0.000000\n",
            "2     64.430833\n",
            "3    124.916667\n",
            "4      1.333333\n",
            "Name: Monthly_avg_purchase, dtype: float64 \n",
            "  0    12\n",
            "1    12\n",
            "2    12\n",
            "3    12\n",
            "4    12\n",
            "Name: TENURE, dtype: int64 \n",
            " 0      95.40\n",
            "1       0.00\n",
            "2     773.17\n",
            "3    1499.00\n",
            "4      16.00\n",
            "Name: PURCHASES, dtype: float64\n"
          ],
          "name": "stdout"
        }
      ]
    },
    {
      "cell_type": "markdown",
      "metadata": {
        "id": "dC6hzMzNsfe9",
        "colab_type": "text"
      },
      "source": [
        "* Purchases by type (one-Time, EMI)\n",
        "To find what type of purchases customers are making on credit card"
      ]
    },
    {
      "cell_type": "code",
      "metadata": {
        "id": "S8lIV4oJsmH2",
        "colab_type": "code",
        "colab": {
          "base_uri": "https://localhost:8080/",
          "height": 419
        },
        "outputId": "32e6eec2-6413-4a06-9fd2-f5e64bcb4a53"
      },
      "source": [
        "credit.loc[:,['ONEOFF_PURCHASES','INSTALLMENTS_PURCHASES']]"
      ],
      "execution_count": 17,
      "outputs": [
        {
          "output_type": "execute_result",
          "data": {
            "text/html": [
              "<div>\n",
              "<style scoped>\n",
              "    .dataframe tbody tr th:only-of-type {\n",
              "        vertical-align: middle;\n",
              "    }\n",
              "\n",
              "    .dataframe tbody tr th {\n",
              "        vertical-align: top;\n",
              "    }\n",
              "\n",
              "    .dataframe thead th {\n",
              "        text-align: right;\n",
              "    }\n",
              "</style>\n",
              "<table border=\"1\" class=\"dataframe\">\n",
              "  <thead>\n",
              "    <tr style=\"text-align: right;\">\n",
              "      <th></th>\n",
              "      <th>ONEOFF_PURCHASES</th>\n",
              "      <th>INSTALLMENTS_PURCHASES</th>\n",
              "    </tr>\n",
              "  </thead>\n",
              "  <tbody>\n",
              "    <tr>\n",
              "      <th>0</th>\n",
              "      <td>0.00</td>\n",
              "      <td>95.40</td>\n",
              "    </tr>\n",
              "    <tr>\n",
              "      <th>1</th>\n",
              "      <td>0.00</td>\n",
              "      <td>0.00</td>\n",
              "    </tr>\n",
              "    <tr>\n",
              "      <th>2</th>\n",
              "      <td>773.17</td>\n",
              "      <td>0.00</td>\n",
              "    </tr>\n",
              "    <tr>\n",
              "      <th>3</th>\n",
              "      <td>1499.00</td>\n",
              "      <td>0.00</td>\n",
              "    </tr>\n",
              "    <tr>\n",
              "      <th>4</th>\n",
              "      <td>16.00</td>\n",
              "      <td>0.00</td>\n",
              "    </tr>\n",
              "    <tr>\n",
              "      <th>...</th>\n",
              "      <td>...</td>\n",
              "      <td>...</td>\n",
              "    </tr>\n",
              "    <tr>\n",
              "      <th>8945</th>\n",
              "      <td>0.00</td>\n",
              "      <td>291.12</td>\n",
              "    </tr>\n",
              "    <tr>\n",
              "      <th>8946</th>\n",
              "      <td>0.00</td>\n",
              "      <td>300.00</td>\n",
              "    </tr>\n",
              "    <tr>\n",
              "      <th>8947</th>\n",
              "      <td>0.00</td>\n",
              "      <td>144.40</td>\n",
              "    </tr>\n",
              "    <tr>\n",
              "      <th>8948</th>\n",
              "      <td>0.00</td>\n",
              "      <td>0.00</td>\n",
              "    </tr>\n",
              "    <tr>\n",
              "      <th>8949</th>\n",
              "      <td>1093.25</td>\n",
              "      <td>0.00</td>\n",
              "    </tr>\n",
              "  </tbody>\n",
              "</table>\n",
              "<p>8950 rows × 2 columns</p>\n",
              "</div>"
            ],
            "text/plain": [
              "      ONEOFF_PURCHASES  INSTALLMENTS_PURCHASES\n",
              "0                 0.00                   95.40\n",
              "1                 0.00                    0.00\n",
              "2               773.17                    0.00\n",
              "3              1499.00                    0.00\n",
              "4                16.00                    0.00\n",
              "...                ...                     ...\n",
              "8945              0.00                  291.12\n",
              "8946              0.00                  300.00\n",
              "8947              0.00                  144.40\n",
              "8948              0.00                    0.00\n",
              "8949           1093.25                    0.00\n",
              "\n",
              "[8950 rows x 2 columns]"
            ]
          },
          "metadata": {
            "tags": []
          },
          "execution_count": 17
        }
      ]
    },
    {
      "cell_type": "code",
      "metadata": {
        "id": "Ks2mSNQltBCZ",
        "colab_type": "code",
        "colab": {
          "base_uri": "https://localhost:8080/",
          "height": 102
        },
        "outputId": "6f9645f6-e7c3-4af5-e2e7-7d2461567f7e"
      },
      "source": [
        "def purchase(credit):\n",
        "    if (credit['ONEOFF_PURCHASES']==0) & (credit['INSTALLMENTS_PURCHASES']==0):\n",
        "        return 'none'\n",
        "    if (credit['ONEOFF_PURCHASES']>0) & (credit['INSTALLMENTS_PURCHASES']>0):\n",
        "         return 'both_oneoff_installment'\n",
        "    if (credit['ONEOFF_PURCHASES']>0) & (credit['INSTALLMENTS_PURCHASES']==0):\n",
        "        return 'one_off'\n",
        "    if (credit['ONEOFF_PURCHASES']==0) & (credit['INSTALLMENTS_PURCHASES']>0):\n",
        "        return 'istallment'\n",
        "credit['purchase_type']=credit.apply(purchase,axis=1)\n",
        "credit['purchase_type'].value_counts()"
      ],
      "execution_count": 19,
      "outputs": [
        {
          "output_type": "execute_result",
          "data": {
            "text/plain": [
              "both_oneoff_installment    2774\n",
              "istallment                 2260\n",
              "none                       2042\n",
              "one_off                    1874\n",
              "Name: purchase_type, dtype: int64"
            ]
          },
          "metadata": {
            "tags": []
          },
          "execution_count": 19
        }
      ]
    },
    {
      "cell_type": "markdown",
      "metadata": {
        "id": "G8YPXwEMtvv3",
        "colab_type": "text"
      },
      "source": [
        "* Average payment_minpayment ratio for each purchse type."
      ]
    },
    {
      "cell_type": "code",
      "metadata": {
        "id": "HEouWIWutxHj",
        "colab_type": "code",
        "colab": {
          "base_uri": "https://localhost:8080/",
          "height": 34
        },
        "outputId": "b4ae98ca-6381-4862-f66a-99c9b8e14996"
      },
      "source": [
        "credit['payment_minpay']=credit.apply(lambda x:x['PAYMENTS']/x['MINIMUM_PAYMENTS'],axis=1)\n",
        "# log tranformation\n",
        "cr_log=credit.drop(['CUST_ID','purchase_type'],axis=1).applymap(lambda x: np.log(x+1))\n",
        "col=['BALANCE','PURCHASES','CASH_ADVANCE','TENURE','PAYMENTS','MINIMUM_PAYMENTS','PRC_FULL_PAYMENT','CREDIT_LIMIT']\n",
        "cr_pre=cr_log[[x for x in cr_log.columns if x not in col ]]\n",
        "\n",
        "x=credit.groupby('purchase_type').apply(lambda x: np.mean(x['payment_minpay']))\n",
        "type(x)\n",
        "x.values"
      ],
      "execution_count": 22,
      "outputs": [
        {
          "output_type": "execute_result",
          "data": {
            "text/plain": [
              "array([ 7.237, 13.259, 10.087,  5.571])"
            ]
          },
          "metadata": {
            "tags": []
          },
          "execution_count": 22
        }
      ]
    },
    {
      "cell_type": "code",
      "metadata": {
        "id": "OpPiWcUTt39K",
        "colab_type": "code",
        "colab": {
          "base_uri": "https://localhost:8080/",
          "height": 304
        },
        "outputId": "3663055a-403d-49a7-e540-f8fc0bb0759c"
      },
      "source": [
        "fig,ax=plt.subplots()\n",
        "ax.barh(y=range(len(x)), width=x.values,align='center')\n",
        "ax.set(yticks= np.arange(len(x)),yticklabels = x.index);\n",
        "plt.title('Mean payment_minpayment ratio for each purchse type')"
      ],
      "execution_count": 24,
      "outputs": [
        {
          "output_type": "execute_result",
          "data": {
            "text/plain": [
              "Text(0.5, 1.0, 'Mean payment_minpayment ratio for each purchse type')"
            ]
          },
          "metadata": {
            "tags": []
          },
          "execution_count": 24
        },
        {
          "output_type": "display_data",
          "data": {
            "image/png": "[encoded data removed]",
            "text/plain": [
              "<Figure size 432x288 with 1 Axes>"
            ]
          },
          "metadata": {
            "tags": []
          }
        }
      ]
    },
    {
      "cell_type": "code",
      "metadata": {
        "id": "dTYy3-UuvH9c",
        "colab_type": "code",
        "colab": {
          "base_uri": "https://localhost:8080/",
          "height": 317
        },
        "outputId": "9a5ba234-d2d5-4a7a-bd60-6b562a9671f8"
      },
      "source": [
        "credit.describe()"
      ],
      "execution_count": 25,
      "outputs": [
        {
          "output_type": "execute_result",
          "data": {
            "text/html": [
              "<div>\n",
              "<style scoped>\n",
              "    .dataframe tbody tr th:only-of-type {\n",
              "        vertical-align: middle;\n",
              "    }\n",
              "\n",
              "    .dataframe tbody tr th {\n",
              "        vertical-align: top;\n",
              "    }\n",
              "\n",
              "    .dataframe thead th {\n",
              "        text-align: right;\n",
              "    }\n",
              "</style>\n",
              "<table border=\"1\" class=\"dataframe\">\n",
              "  <thead>\n",
              "    <tr style=\"text-align: right;\">\n",
              "      <th></th>\n",
              "      <th>BALANCE</th>\n",
              "      <th>BALANCE_FREQUENCY</th>\n",
              "      <th>PURCHASES</th>\n",
              "      <th>ONEOFF_PURCHASES</th>\n",
              "      <th>INSTALLMENTS_PURCHASES</th>\n",
              "      <th>CASH_ADVANCE</th>\n",
              "      <th>PURCHASES_FREQUENCY</th>\n",
              "      <th>ONEOFF_PURCHASES_FREQUENCY</th>\n",
              "      <th>PURCHASES_INSTALLMENTS_FREQUENCY</th>\n",
              "      <th>CASH_ADVANCE_FREQUENCY</th>\n",
              "      <th>CASH_ADVANCE_TRX</th>\n",
              "      <th>PURCHASES_TRX</th>\n",
              "      <th>CREDIT_LIMIT</th>\n",
              "      <th>PAYMENTS</th>\n",
              "      <th>MINIMUM_PAYMENTS</th>\n",
              "      <th>PRC_FULL_PAYMENT</th>\n",
              "      <th>TENURE</th>\n",
              "      <th>Monthly_avg_purchase</th>\n",
              "      <th>Monthly_cash_advance</th>\n",
              "      <th>payment_minpay</th>\n",
              "    </tr>\n",
              "  </thead>\n",
              "  <tbody>\n",
              "    <tr>\n",
              "      <th>count</th>\n",
              "      <td>8950.000000</td>\n",
              "      <td>8950.000000</td>\n",
              "      <td>8950.000000</td>\n",
              "      <td>8950.000000</td>\n",
              "      <td>8950.000000</td>\n",
              "      <td>8950.000000</td>\n",
              "      <td>8950.000000</td>\n",
              "      <td>8950.000000</td>\n",
              "      <td>8950.000000</td>\n",
              "      <td>8950.000000</td>\n",
              "      <td>8950.000000</td>\n",
              "      <td>8950.000000</td>\n",
              "      <td>8950.000000</td>\n",
              "      <td>8950.000000</td>\n",
              "      <td>8950.000000</td>\n",
              "      <td>8950.000000</td>\n",
              "      <td>8950.000000</td>\n",
              "      <td>8950.000000</td>\n",
              "      <td>8950.000000</td>\n",
              "      <td>8950.000000</td>\n",
              "    </tr>\n",
              "    <tr>\n",
              "      <th>mean</th>\n",
              "      <td>1564.474828</td>\n",
              "      <td>0.877271</td>\n",
              "      <td>1003.204834</td>\n",
              "      <td>592.437371</td>\n",
              "      <td>411.067645</td>\n",
              "      <td>978.871112</td>\n",
              "      <td>0.490351</td>\n",
              "      <td>0.202458</td>\n",
              "      <td>0.364437</td>\n",
              "      <td>0.135144</td>\n",
              "      <td>3.248827</td>\n",
              "      <td>14.709832</td>\n",
              "      <td>4494.282473</td>\n",
              "      <td>1733.143852</td>\n",
              "      <td>844.906767</td>\n",
              "      <td>0.153715</td>\n",
              "      <td>11.517318</td>\n",
              "      <td>86.175173</td>\n",
              "      <td>88.977984</td>\n",
              "      <td>9.059164</td>\n",
              "    </tr>\n",
              "    <tr>\n",
              "      <th>std</th>\n",
              "      <td>2081.531879</td>\n",
              "      <td>0.236904</td>\n",
              "      <td>2136.634782</td>\n",
              "      <td>1659.887917</td>\n",
              "      <td>904.338115</td>\n",
              "      <td>2097.163877</td>\n",
              "      <td>0.401371</td>\n",
              "      <td>0.298336</td>\n",
              "      <td>0.397448</td>\n",
              "      <td>0.200121</td>\n",
              "      <td>6.824647</td>\n",
              "      <td>24.857649</td>\n",
              "      <td>3638.646702</td>\n",
              "      <td>2895.063757</td>\n",
              "      <td>2332.792322</td>\n",
              "      <td>0.292499</td>\n",
              "      <td>1.338331</td>\n",
              "      <td>180.508787</td>\n",
              "      <td>193.136115</td>\n",
              "      <td>118.180526</td>\n",
              "    </tr>\n",
              "    <tr>\n",
              "      <th>min</th>\n",
              "      <td>0.000000</td>\n",
              "      <td>0.000000</td>\n",
              "      <td>0.000000</td>\n",
              "      <td>0.000000</td>\n",
              "      <td>0.000000</td>\n",
              "      <td>0.000000</td>\n",
              "      <td>0.000000</td>\n",
              "      <td>0.000000</td>\n",
              "      <td>0.000000</td>\n",
              "      <td>0.000000</td>\n",
              "      <td>0.000000</td>\n",
              "      <td>0.000000</td>\n",
              "      <td>50.000000</td>\n",
              "      <td>0.000000</td>\n",
              "      <td>0.019163</td>\n",
              "      <td>0.000000</td>\n",
              "      <td>6.000000</td>\n",
              "      <td>0.000000</td>\n",
              "      <td>0.000000</td>\n",
              "      <td>0.000000</td>\n",
              "    </tr>\n",
              "    <tr>\n",
              "      <th>25%</th>\n",
              "      <td>128.281915</td>\n",
              "      <td>0.888889</td>\n",
              "      <td>39.635000</td>\n",
              "      <td>0.000000</td>\n",
              "      <td>0.000000</td>\n",
              "      <td>0.000000</td>\n",
              "      <td>0.083333</td>\n",
              "      <td>0.000000</td>\n",
              "      <td>0.000000</td>\n",
              "      <td>0.000000</td>\n",
              "      <td>0.000000</td>\n",
              "      <td>1.000000</td>\n",
              "      <td>1600.000000</td>\n",
              "      <td>383.276166</td>\n",
              "      <td>170.857654</td>\n",
              "      <td>0.000000</td>\n",
              "      <td>12.000000</td>\n",
              "      <td>3.399375</td>\n",
              "      <td>0.000000</td>\n",
              "      <td>0.913275</td>\n",
              "    </tr>\n",
              "    <tr>\n",
              "      <th>50%</th>\n",
              "      <td>873.385231</td>\n",
              "      <td>1.000000</td>\n",
              "      <td>361.280000</td>\n",
              "      <td>38.000000</td>\n",
              "      <td>89.000000</td>\n",
              "      <td>0.000000</td>\n",
              "      <td>0.500000</td>\n",
              "      <td>0.083333</td>\n",
              "      <td>0.166667</td>\n",
              "      <td>0.000000</td>\n",
              "      <td>0.000000</td>\n",
              "      <td>7.000000</td>\n",
              "      <td>3000.000000</td>\n",
              "      <td>856.901546</td>\n",
              "      <td>312.343947</td>\n",
              "      <td>0.000000</td>\n",
              "      <td>12.000000</td>\n",
              "      <td>31.936667</td>\n",
              "      <td>0.000000</td>\n",
              "      <td>2.032717</td>\n",
              "    </tr>\n",
              "    <tr>\n",
              "      <th>75%</th>\n",
              "      <td>2054.140036</td>\n",
              "      <td>1.000000</td>\n",
              "      <td>1110.130000</td>\n",
              "      <td>577.405000</td>\n",
              "      <td>468.637500</td>\n",
              "      <td>1113.821139</td>\n",
              "      <td>0.916667</td>\n",
              "      <td>0.300000</td>\n",
              "      <td>0.750000</td>\n",
              "      <td>0.222222</td>\n",
              "      <td>4.000000</td>\n",
              "      <td>17.000000</td>\n",
              "      <td>6500.000000</td>\n",
              "      <td>1901.134317</td>\n",
              "      <td>788.713501</td>\n",
              "      <td>0.142857</td>\n",
              "      <td>12.000000</td>\n",
              "      <td>97.228333</td>\n",
              "      <td>99.085196</td>\n",
              "      <td>6.052729</td>\n",
              "    </tr>\n",
              "    <tr>\n",
              "      <th>max</th>\n",
              "      <td>19043.138560</td>\n",
              "      <td>1.000000</td>\n",
              "      <td>49039.570000</td>\n",
              "      <td>40761.250000</td>\n",
              "      <td>22500.000000</td>\n",
              "      <td>47137.211760</td>\n",
              "      <td>1.000000</td>\n",
              "      <td>1.000000</td>\n",
              "      <td>1.000000</td>\n",
              "      <td>1.500000</td>\n",
              "      <td>123.000000</td>\n",
              "      <td>358.000000</td>\n",
              "      <td>30000.000000</td>\n",
              "      <td>50721.483360</td>\n",
              "      <td>76406.207520</td>\n",
              "      <td>1.000000</td>\n",
              "      <td>12.000000</td>\n",
              "      <td>4086.630833</td>\n",
              "      <td>3928.100980</td>\n",
              "      <td>6840.528861</td>\n",
              "    </tr>\n",
              "  </tbody>\n",
              "</table>\n",
              "</div>"
            ],
            "text/plain": [
              "            BALANCE  BALANCE_FREQUENCY     PURCHASES  ONEOFF_PURCHASES  \\\n",
              "count   8950.000000        8950.000000   8950.000000       8950.000000   \n",
              "mean    1564.474828           0.877271   1003.204834        592.437371   \n",
              "std     2081.531879           0.236904   2136.634782       1659.887917   \n",
              "min        0.000000           0.000000      0.000000          0.000000   \n",
              "25%      128.281915           0.888889     39.635000          0.000000   \n",
              "50%      873.385231           1.000000    361.280000         38.000000   \n",
              "75%     2054.140036           1.000000   1110.130000        577.405000   \n",
              "max    19043.138560           1.000000  49039.570000      40761.250000   \n",
              "\n",
              "       INSTALLMENTS_PURCHASES  CASH_ADVANCE  PURCHASES_FREQUENCY  \\\n",
              "count             8950.000000   8950.000000          8950.000000   \n",
              "mean               411.067645    978.871112             0.490351   \n",
              "std                904.338115   2097.163877             0.401371   \n",
              "min                  0.000000      0.000000             0.000000   \n",
              "25%                  0.000000      0.000000             0.083333   \n",
              "50%                 89.000000      0.000000             0.500000   \n",
              "75%                468.637500   1113.821139             0.916667   \n",
              "max              22500.000000  47137.211760             1.000000   \n",
              "\n",
              "       ONEOFF_PURCHASES_FREQUENCY  PURCHASES_INSTALLMENTS_FREQUENCY  \\\n",
              "count                 8950.000000                       8950.000000   \n",
              "mean                     0.202458                          0.364437   \n",
              "std                      0.298336                          0.397448   \n",
              "min                      0.000000                          0.000000   \n",
              "25%                      0.000000                          0.000000   \n",
              "50%                      0.083333                          0.166667   \n",
              "75%                      0.300000                          0.750000   \n",
              "max                      1.000000                          1.000000   \n",
              "\n",
              "       CASH_ADVANCE_FREQUENCY  CASH_ADVANCE_TRX  PURCHASES_TRX  CREDIT_LIMIT  \\\n",
              "count             8950.000000       8950.000000    8950.000000   8950.000000   \n",
              "mean                 0.135144          3.248827      14.709832   4494.282473   \n",
              "std                  0.200121          6.824647      24.857649   3638.646702   \n",
              "min                  0.000000          0.000000       0.000000     50.000000   \n",
              "25%                  0.000000          0.000000       1.000000   1600.000000   \n",
              "50%                  0.000000          0.000000       7.000000   3000.000000   \n",
              "75%                  0.222222          4.000000      17.000000   6500.000000   \n",
              "max                  1.500000        123.000000     358.000000  30000.000000   \n",
              "\n",
              "           PAYMENTS  MINIMUM_PAYMENTS  PRC_FULL_PAYMENT       TENURE  \\\n",
              "count   8950.000000       8950.000000       8950.000000  8950.000000   \n",
              "mean    1733.143852        844.906767          0.153715    11.517318   \n",
              "std     2895.063757       2332.792322          0.292499     1.338331   \n",
              "min        0.000000          0.019163          0.000000     6.000000   \n",
              "25%      383.276166        170.857654          0.000000    12.000000   \n",
              "50%      856.901546        312.343947          0.000000    12.000000   \n",
              "75%     1901.134317        788.713501          0.142857    12.000000   \n",
              "max    50721.483360      76406.207520          1.000000    12.000000   \n",
              "\n",
              "       Monthly_avg_purchase  Monthly_cash_advance  payment_minpay  \n",
              "count           8950.000000           8950.000000     8950.000000  \n",
              "mean              86.175173             88.977984        9.059164  \n",
              "std              180.508787            193.136115      118.180526  \n",
              "min                0.000000              0.000000        0.000000  \n",
              "25%                3.399375              0.000000        0.913275  \n",
              "50%               31.936667              0.000000        2.032717  \n",
              "75%               97.228333             99.085196        6.052729  \n",
              "max             4086.630833           3928.100980     6840.528861  "
            ]
          },
          "metadata": {
            "tags": []
          },
          "execution_count": 25
        }
      ]
    },
    {
      "cell_type": "markdown",
      "metadata": {
        "id": "rbIQHrK9wF-A",
        "colab_type": "text"
      },
      "source": [
        "* Average Cash advance for different purchase type"
      ]
    },
    {
      "cell_type": "code",
      "metadata": {
        "id": "Mk1pZ2-Pvcye",
        "colab_type": "code",
        "colab": {
          "base_uri": "https://localhost:8080/",
          "height": 304
        },
        "outputId": "77f6570c-266a-4e17-d3a3-f77a47771408"
      },
      "source": [
        "credit.groupby('purchase_type').apply(lambda x: np.mean(x['Monthly_cash_advance'])).plot.barh()\n",
        "\n",
        "plt.title('Average cash advance taken by customers of different Purchase type : Both, None,Installment,One_Off')"
      ],
      "execution_count": 26,
      "outputs": [
        {
          "output_type": "execute_result",
          "data": {
            "text/plain": [
              "Text(0.5, 1.0, 'Average cash advance taken by customers of different Purchase type : Both, None,Installment,One_Off')"
            ]
          },
          "metadata": {
            "tags": []
          },
          "execution_count": 26
        },
        {
          "output_type": "display_data",
          "data": {
            "image/png": "[encoded data removed]",
            "text/plain": [
              "<Figure size 432x288 with 1 Axes>"
            ]
          },
          "metadata": {
            "tags": []
          }
        }
      ]
    },
    {
      "cell_type": "code",
      "metadata": {
        "id": "Rzdw-StywEKD",
        "colab_type": "code",
        "colab": {}
      },
      "source": [
        ""
      ],
      "execution_count": null,
      "outputs": []
    },
    {
      "cell_type": "markdown",
      "metadata": {
        "id": "VQHlXermwVLR",
        "colab_type": "text"
      },
      "source": [
        "### Prepare for ML algo\n",
        "\n",
        "* Convert Categorical type to numeric"
      ]
    },
    {
      "cell_type": "code",
      "metadata": {
        "id": "nuigP1Biv_my",
        "colab_type": "code",
        "colab": {}
      },
      "source": [
        "cre_original=pd.concat([credit,pd.get_dummies(credit['purchase_type'])],axis=1)"
      ],
      "execution_count": 27,
      "outputs": []
    },
    {
      "cell_type": "code",
      "metadata": {
        "id": "KK9rfMxvwgKO",
        "colab_type": "code",
        "colab": {
          "base_uri": "https://localhost:8080/",
          "height": 419
        },
        "outputId": "427d534e-82df-495f-efed-dad38f1bf0a1"
      },
      "source": [
        "# creating Dummies for categorical variable\n",
        "cr_pre['purchase_type']=credit.loc[:,'purchase_type']\n",
        "pd.get_dummies(cr_pre['purchase_type'])"
      ],
      "execution_count": 28,
      "outputs": [
        {
          "output_type": "execute_result",
          "data": {
            "text/html": [
              "<div>\n",
              "<style scoped>\n",
              "    .dataframe tbody tr th:only-of-type {\n",
              "        vertical-align: middle;\n",
              "    }\n",
              "\n",
              "    .dataframe tbody tr th {\n",
              "        vertical-align: top;\n",
              "    }\n",
              "\n",
              "    .dataframe thead th {\n",
              "        text-align: right;\n",
              "    }\n",
              "</style>\n",
              "<table border=\"1\" class=\"dataframe\">\n",
              "  <thead>\n",
              "    <tr style=\"text-align: right;\">\n",
              "      <th></th>\n",
              "      <th>both_oneoff_installment</th>\n",
              "      <th>istallment</th>\n",
              "      <th>none</th>\n",
              "      <th>one_off</th>\n",
              "    </tr>\n",
              "  </thead>\n",
              "  <tbody>\n",
              "    <tr>\n",
              "      <th>0</th>\n",
              "      <td>0</td>\n",
              "      <td>1</td>\n",
              "      <td>0</td>\n",
              "      <td>0</td>\n",
              "    </tr>\n",
              "    <tr>\n",
              "      <th>1</th>\n",
              "      <td>0</td>\n",
              "      <td>0</td>\n",
              "      <td>1</td>\n",
              "      <td>0</td>\n",
              "    </tr>\n",
              "    <tr>\n",
              "      <th>2</th>\n",
              "      <td>0</td>\n",
              "      <td>0</td>\n",
              "      <td>0</td>\n",
              "      <td>1</td>\n",
              "    </tr>\n",
              "    <tr>\n",
              "      <th>3</th>\n",
              "      <td>0</td>\n",
              "      <td>0</td>\n",
              "      <td>0</td>\n",
              "      <td>1</td>\n",
              "    </tr>\n",
              "    <tr>\n",
              "      <th>4</th>\n",
              "      <td>0</td>\n",
              "      <td>0</td>\n",
              "      <td>0</td>\n",
              "      <td>1</td>\n",
              "    </tr>\n",
              "    <tr>\n",
              "      <th>...</th>\n",
              "      <td>...</td>\n",
              "      <td>...</td>\n",
              "      <td>...</td>\n",
              "      <td>...</td>\n",
              "    </tr>\n",
              "    <tr>\n",
              "      <th>8945</th>\n",
              "      <td>0</td>\n",
              "      <td>1</td>\n",
              "      <td>0</td>\n",
              "      <td>0</td>\n",
              "    </tr>\n",
              "    <tr>\n",
              "      <th>8946</th>\n",
              "      <td>0</td>\n",
              "      <td>1</td>\n",
              "      <td>0</td>\n",
              "      <td>0</td>\n",
              "    </tr>\n",
              "    <tr>\n",
              "      <th>8947</th>\n",
              "      <td>0</td>\n",
              "      <td>1</td>\n",
              "      <td>0</td>\n",
              "      <td>0</td>\n",
              "    </tr>\n",
              "    <tr>\n",
              "      <th>8948</th>\n",
              "      <td>0</td>\n",
              "      <td>0</td>\n",
              "      <td>1</td>\n",
              "      <td>0</td>\n",
              "    </tr>\n",
              "    <tr>\n",
              "      <th>8949</th>\n",
              "      <td>0</td>\n",
              "      <td>0</td>\n",
              "      <td>0</td>\n",
              "      <td>1</td>\n",
              "    </tr>\n",
              "  </tbody>\n",
              "</table>\n",
              "<p>8950 rows × 4 columns</p>\n",
              "</div>"
            ],
            "text/plain": [
              "      both_oneoff_installment  istallment  none  one_off\n",
              "0                           0           1     0        0\n",
              "1                           0           0     1        0\n",
              "2                           0           0     0        1\n",
              "3                           0           0     0        1\n",
              "4                           0           0     0        1\n",
              "...                       ...         ...   ...      ...\n",
              "8945                        0           1     0        0\n",
              "8946                        0           1     0        0\n",
              "8947                        0           1     0        0\n",
              "8948                        0           0     1        0\n",
              "8949                        0           0     0        1\n",
              "\n",
              "[8950 rows x 4 columns]"
            ]
          },
          "metadata": {
            "tags": []
          },
          "execution_count": 28
        }
      ]
    },
    {
      "cell_type": "markdown",
      "metadata": {
        "id": "LCXCeLcAwnPW",
        "colab_type": "text"
      },
      "source": [
        "* Now merge the created dummy with the original data frame"
      ]
    },
    {
      "cell_type": "code",
      "metadata": {
        "id": "wutUuhDLwjZq",
        "colab_type": "code",
        "colab": {
          "base_uri": "https://localhost:8080/",
          "height": 306
        },
        "outputId": "f191f287-5d00-427d-b4b2-6d4de5373bcb"
      },
      "source": [
        "cr_dummy=pd.concat([cr_pre,pd.get_dummies(cr_pre['purchase_type'])],axis=1)\n",
        "l=['purchase_type']\n",
        "cr_dummy=cr_dummy.drop(l,axis=1)\n",
        "cr_dummy.isnull().any()"
      ],
      "execution_count": 29,
      "outputs": [
        {
          "output_type": "execute_result",
          "data": {
            "text/plain": [
              "BALANCE_FREQUENCY                   False\n",
              "ONEOFF_PURCHASES                    False\n",
              "INSTALLMENTS_PURCHASES              False\n",
              "PURCHASES_FREQUENCY                 False\n",
              "ONEOFF_PURCHASES_FREQUENCY          False\n",
              "PURCHASES_INSTALLMENTS_FREQUENCY    False\n",
              "CASH_ADVANCE_FREQUENCY              False\n",
              "CASH_ADVANCE_TRX                    False\n",
              "PURCHASES_TRX                       False\n",
              "Monthly_avg_purchase                False\n",
              "Monthly_cash_advance                False\n",
              "payment_minpay                      False\n",
              "both_oneoff_installment             False\n",
              "istallment                          False\n",
              "none                                False\n",
              "one_off                             False\n",
              "dtype: bool"
            ]
          },
          "metadata": {
            "tags": []
          },
          "execution_count": 29
        }
      ]
    },
    {
      "cell_type": "code",
      "metadata": {
        "id": "lBlrTesAwqrF",
        "colab_type": "code",
        "colab": {
          "base_uri": "https://localhost:8080/",
          "height": 408
        },
        "outputId": "6a2df865-b3a7-421d-ef4a-b9d8953f0878"
      },
      "source": [
        "cr_dummy.info()"
      ],
      "execution_count": 30,
      "outputs": [
        {
          "output_type": "stream",
          "text": [
            "<class 'pandas.core.frame.DataFrame'>\n",
            "RangeIndex: 8950 entries, 0 to 8949\n",
            "Data columns (total 16 columns):\n",
            " #   Column                            Non-Null Count  Dtype  \n",
            "---  ------                            --------------  -----  \n",
            " 0   BALANCE_FREQUENCY                 8950 non-null   float64\n",
            " 1   ONEOFF_PURCHASES                  8950 non-null   float64\n",
            " 2   INSTALLMENTS_PURCHASES            8950 non-null   float64\n",
            " 3   PURCHASES_FREQUENCY               8950 non-null   float64\n",
            " 4   ONEOFF_PURCHASES_FREQUENCY        8950 non-null   float64\n",
            " 5   PURCHASES_INSTALLMENTS_FREQUENCY  8950 non-null   float64\n",
            " 6   CASH_ADVANCE_FREQUENCY            8950 non-null   float64\n",
            " 7   CASH_ADVANCE_TRX                  8950 non-null   float64\n",
            " 8   PURCHASES_TRX                     8950 non-null   float64\n",
            " 9   Monthly_avg_purchase              8950 non-null   float64\n",
            " 10  Monthly_cash_advance              8950 non-null   float64\n",
            " 11  payment_minpay                    8950 non-null   float64\n",
            " 12  both_oneoff_installment           8950 non-null   uint8  \n",
            " 13  istallment                        8950 non-null   uint8  \n",
            " 14  none                              8950 non-null   uint8  \n",
            " 15  one_off                           8950 non-null   uint8  \n",
            "dtypes: float64(12), uint8(4)\n",
            "memory usage: 874.1 KB\n"
          ],
          "name": "stdout"
        }
      ]
    },
    {
      "cell_type": "code",
      "metadata": {
        "id": "-Tgibb69wsjR",
        "colab_type": "code",
        "colab": {
          "base_uri": "https://localhost:8080/",
          "height": 224
        },
        "outputId": "dd19ce1d-b849-4824-88f9-616099e19bec"
      },
      "source": [
        "cr_dummy.head()"
      ],
      "execution_count": 31,
      "outputs": [
        {
          "output_type": "execute_result",
          "data": {
            "text/html": [
              "<div>\n",
              "<style scoped>\n",
              "    .dataframe tbody tr th:only-of-type {\n",
              "        vertical-align: middle;\n",
              "    }\n",
              "\n",
              "    .dataframe tbody tr th {\n",
              "        vertical-align: top;\n",
              "    }\n",
              "\n",
              "    .dataframe thead th {\n",
              "        text-align: right;\n",
              "    }\n",
              "</style>\n",
              "<table border=\"1\" class=\"dataframe\">\n",
              "  <thead>\n",
              "    <tr style=\"text-align: right;\">\n",
              "      <th></th>\n",
              "      <th>BALANCE_FREQUENCY</th>\n",
              "      <th>ONEOFF_PURCHASES</th>\n",
              "      <th>INSTALLMENTS_PURCHASES</th>\n",
              "      <th>PURCHASES_FREQUENCY</th>\n",
              "      <th>ONEOFF_PURCHASES_FREQUENCY</th>\n",
              "      <th>PURCHASES_INSTALLMENTS_FREQUENCY</th>\n",
              "      <th>CASH_ADVANCE_FREQUENCY</th>\n",
              "      <th>CASH_ADVANCE_TRX</th>\n",
              "      <th>PURCHASES_TRX</th>\n",
              "      <th>Monthly_avg_purchase</th>\n",
              "      <th>Monthly_cash_advance</th>\n",
              "      <th>payment_minpay</th>\n",
              "      <th>both_oneoff_installment</th>\n",
              "      <th>istallment</th>\n",
              "      <th>none</th>\n",
              "      <th>one_off</th>\n",
              "    </tr>\n",
              "  </thead>\n",
              "  <tbody>\n",
              "    <tr>\n",
              "      <th>0</th>\n",
              "      <td>0.597837</td>\n",
              "      <td>0.000000</td>\n",
              "      <td>4.568506</td>\n",
              "      <td>0.154151</td>\n",
              "      <td>0.000000</td>\n",
              "      <td>0.080042</td>\n",
              "      <td>0.000000</td>\n",
              "      <td>0.000000</td>\n",
              "      <td>1.098612</td>\n",
              "      <td>2.191654</td>\n",
              "      <td>0.000000</td>\n",
              "      <td>0.894662</td>\n",
              "      <td>0</td>\n",
              "      <td>1</td>\n",
              "      <td>0</td>\n",
              "      <td>0</td>\n",
              "    </tr>\n",
              "    <tr>\n",
              "      <th>1</th>\n",
              "      <td>0.646627</td>\n",
              "      <td>0.000000</td>\n",
              "      <td>0.000000</td>\n",
              "      <td>0.000000</td>\n",
              "      <td>0.000000</td>\n",
              "      <td>0.000000</td>\n",
              "      <td>0.223144</td>\n",
              "      <td>1.609438</td>\n",
              "      <td>0.000000</td>\n",
              "      <td>0.000000</td>\n",
              "      <td>6.287695</td>\n",
              "      <td>1.574068</td>\n",
              "      <td>0</td>\n",
              "      <td>0</td>\n",
              "      <td>1</td>\n",
              "      <td>0</td>\n",
              "    </tr>\n",
              "    <tr>\n",
              "      <th>2</th>\n",
              "      <td>0.693147</td>\n",
              "      <td>6.651791</td>\n",
              "      <td>0.000000</td>\n",
              "      <td>0.693147</td>\n",
              "      <td>0.693147</td>\n",
              "      <td>0.000000</td>\n",
              "      <td>0.000000</td>\n",
              "      <td>0.000000</td>\n",
              "      <td>2.564949</td>\n",
              "      <td>4.180994</td>\n",
              "      <td>0.000000</td>\n",
              "      <td>0.688979</td>\n",
              "      <td>0</td>\n",
              "      <td>0</td>\n",
              "      <td>0</td>\n",
              "      <td>1</td>\n",
              "    </tr>\n",
              "    <tr>\n",
              "      <th>3</th>\n",
              "      <td>0.492477</td>\n",
              "      <td>7.313220</td>\n",
              "      <td>0.000000</td>\n",
              "      <td>0.080042</td>\n",
              "      <td>0.080042</td>\n",
              "      <td>0.000000</td>\n",
              "      <td>0.080042</td>\n",
              "      <td>0.693147</td>\n",
              "      <td>0.693147</td>\n",
              "      <td>4.835620</td>\n",
              "      <td>2.898616</td>\n",
              "      <td>0.000000</td>\n",
              "      <td>0</td>\n",
              "      <td>0</td>\n",
              "      <td>0</td>\n",
              "      <td>1</td>\n",
              "    </tr>\n",
              "    <tr>\n",
              "      <th>4</th>\n",
              "      <td>0.693147</td>\n",
              "      <td>2.833213</td>\n",
              "      <td>0.000000</td>\n",
              "      <td>0.080042</td>\n",
              "      <td>0.080042</td>\n",
              "      <td>0.000000</td>\n",
              "      <td>0.000000</td>\n",
              "      <td>0.000000</td>\n",
              "      <td>0.693147</td>\n",
              "      <td>0.847298</td>\n",
              "      <td>0.000000</td>\n",
              "      <td>1.327360</td>\n",
              "      <td>0</td>\n",
              "      <td>0</td>\n",
              "      <td>0</td>\n",
              "      <td>1</td>\n",
              "    </tr>\n",
              "  </tbody>\n",
              "</table>\n",
              "</div>"
            ],
            "text/plain": [
              "   BALANCE_FREQUENCY  ONEOFF_PURCHASES  INSTALLMENTS_PURCHASES  \\\n",
              "0           0.597837          0.000000                4.568506   \n",
              "1           0.646627          0.000000                0.000000   \n",
              "2           0.693147          6.651791                0.000000   \n",
              "3           0.492477          7.313220                0.000000   \n",
              "4           0.693147          2.833213                0.000000   \n",
              "\n",
              "   PURCHASES_FREQUENCY  ONEOFF_PURCHASES_FREQUENCY  \\\n",
              "0             0.154151                    0.000000   \n",
              "1             0.000000                    0.000000   \n",
              "2             0.693147                    0.693147   \n",
              "3             0.080042                    0.080042   \n",
              "4             0.080042                    0.080042   \n",
              "\n",
              "   PURCHASES_INSTALLMENTS_FREQUENCY  CASH_ADVANCE_FREQUENCY  CASH_ADVANCE_TRX  \\\n",
              "0                          0.080042                0.000000          0.000000   \n",
              "1                          0.000000                0.223144          1.609438   \n",
              "2                          0.000000                0.000000          0.000000   \n",
              "3                          0.000000                0.080042          0.693147   \n",
              "4                          0.000000                0.000000          0.000000   \n",
              "\n",
              "   PURCHASES_TRX  Monthly_avg_purchase  Monthly_cash_advance  payment_minpay  \\\n",
              "0       1.098612              2.191654              0.000000        0.894662   \n",
              "1       0.000000              0.000000              6.287695        1.574068   \n",
              "2       2.564949              4.180994              0.000000        0.688979   \n",
              "3       0.693147              4.835620              2.898616        0.000000   \n",
              "4       0.693147              0.847298              0.000000        1.327360   \n",
              "\n",
              "   both_oneoff_installment  istallment  none  one_off  \n",
              "0                        0           1     0        0  \n",
              "1                        0           0     1        0  \n",
              "2                        0           0     0        1  \n",
              "3                        0           0     0        1  \n",
              "4                        0           0     0        1  "
            ]
          },
          "metadata": {
            "tags": []
          },
          "execution_count": 31
        }
      ]
    },
    {
      "cell_type": "markdown",
      "metadata": {
        "id": "uFlcilVPxDL-",
        "colab_type": "text"
      },
      "source": [
        "#### Standardrizing data to put data on the same scale"
      ]
    },
    {
      "cell_type": "code",
      "metadata": {
        "id": "V4cpbQvfww_q",
        "colab_type": "code",
        "colab": {
          "base_uri": "https://localhost:8080/",
          "height": 136
        },
        "outputId": "edc20103-d385-4374-de56-592a0edf9e72"
      },
      "source": [
        "from sklearn.preprocessing import  StandardScaler\n",
        "sc=StandardScaler()\n",
        "cr_dummy.shape\n",
        "cr_scaled=sc.fit_transform(cr_dummy)\n",
        "cr_scaled"
      ],
      "execution_count": 33,
      "outputs": [
        {
          "output_type": "execute_result",
          "data": {
            "text/plain": [
              "array([[-0.149, -0.987,  0.394, ...,  1.721, -0.544, -0.515],\n",
              "       [ 0.18 , -0.987, -1.087, ..., -0.581,  1.839, -0.515],\n",
              "       [ 0.493,  1.062, -1.087, ..., -0.581, -0.544,  1.943],\n",
              "       ...,\n",
              "       [-0.093, -0.987,  0.528, ...,  1.721, -0.544, -0.515],\n",
              "       [-0.093, -0.987, -1.087, ..., -0.581,  1.839, -0.515],\n",
              "       [-0.734,  1.169, -1.087, ..., -0.581, -0.544,  1.943]])"
            ]
          },
          "metadata": {
            "tags": []
          },
          "execution_count": 33
        }
      ]
    },
    {
      "cell_type": "code",
      "metadata": {
        "id": "TgK-2eFExKWW",
        "colab_type": "code",
        "colab": {
          "base_uri": "https://localhost:8080/",
          "height": 34
        },
        "outputId": "b1e5d6a0-c8f1-4bc0-a93b-85f1fdc5e79c"
      },
      "source": [
        "from sklearn.decomposition import PCA\n",
        "cr_dummy.shape\n"
      ],
      "execution_count": 35,
      "outputs": [
        {
          "output_type": "execute_result",
          "data": {
            "text/plain": [
              "(8950, 16)"
            ]
          },
          "metadata": {
            "tags": []
          },
          "execution_count": 35
        }
      ]
    },
    {
      "cell_type": "code",
      "metadata": {
        "id": "s4vr3z5xxQ97",
        "colab_type": "code",
        "colab": {
          "base_uri": "https://localhost:8080/",
          "height": 34
        },
        "outputId": "96df9853-4ea4-435f-897e-2a67cf7a8d26"
      },
      "source": [
        "#We have 17 features so our n_component will be 17.\n",
        "pc=PCA(n_components=16)\n",
        "cr_pca=pc.fit(cr_scaled)\n",
        "#Lets check if we will take 17 component then how much varience it explain. Ideally it should be 1 i.e 100%\n",
        "sum(cr_pca.explained_variance_ratio_)"
      ],
      "execution_count": 37,
      "outputs": [
        {
          "output_type": "execute_result",
          "data": {
            "text/plain": [
              "0.9999999999999999"
            ]
          },
          "metadata": {
            "tags": []
          },
          "execution_count": 37
        }
      ]
    },
    {
      "cell_type": "code",
      "metadata": {
        "id": "msz15CKqxfAR",
        "colab_type": "code",
        "colab": {
          "base_uri": "https://localhost:8080/",
          "height": 272
        },
        "outputId": "e73083a0-7914-4ab0-8908-49018a7d9eca"
      },
      "source": [
        "var_ratio={}\n",
        "for n in range(2,17):\n",
        "    pc=PCA(n_components=n)\n",
        "    cr_pca=pc.fit(cr_scaled)\n",
        "    var_ratio[n]=sum(cr_pca.explained_variance_ratio_)\n",
        "var_ratio"
      ],
      "execution_count": 39,
      "outputs": [
        {
          "output_type": "execute_result",
          "data": {
            "text/plain": [
              "{2: 0.604535429815473,\n",
              " 3: 0.7523237737638364,\n",
              " 4: 0.8277351674431126,\n",
              " 5: 0.8918344465720279,\n",
              " 6: 0.9360020967375567,\n",
              " 7: 0.958768842838187,\n",
              " 8: 0.9719117200504412,\n",
              " 9: 0.9823137590482119,\n",
              " 10: 0.9890321813279155,\n",
              " 11: 0.9922882829824956,\n",
              " 12: 0.995101211987939,\n",
              " 13: 0.9978339015619124,\n",
              " 14: 0.9996130214596871,\n",
              " 15: 0.9999999999999999,\n",
              " 16: 0.9999999999999999}"
            ]
          },
          "metadata": {
            "tags": []
          },
          "execution_count": 39
        }
      ]
    },
    {
      "cell_type": "code",
      "metadata": {
        "id": "8z4oHdDNyMZc",
        "colab_type": "code",
        "colab": {
          "base_uri": "https://localhost:8080/",
          "height": 34
        },
        "outputId": "c7e083b7-73fc-4bba-cb59-de7e506a72f2"
      },
      "source": [
        "pc=PCA(n_components=6)\n",
        "p=pc.fit(cr_scaled)\n",
        "cr_scaled.shape"
      ],
      "execution_count": 40,
      "outputs": [
        {
          "output_type": "execute_result",
          "data": {
            "text/plain": [
              "(8950, 16)"
            ]
          },
          "metadata": {
            "tags": []
          },
          "execution_count": 40
        }
      ]
    },
    {
      "cell_type": "code",
      "metadata": {
        "id": "8n2-jc-Vy1MW",
        "colab_type": "code",
        "colab": {
          "base_uri": "https://localhost:8080/",
          "height": 204
        },
        "outputId": "a56d6cce-c7f8-4e6d-84b5-e49f4d97a5ea"
      },
      "source": [
        "pc_final=PCA(n_components=6).fit(cr_scaled)\n",
        "\n",
        "reduced_cr=pc_final.fit_transform(cr_scaled)\n",
        "dd=pd.DataFrame(reduced_cr)\n",
        "dd.head()"
      ],
      "execution_count": 41,
      "outputs": [
        {
          "output_type": "execute_result",
          "data": {
            "text/html": [
              "<div>\n",
              "<style scoped>\n",
              "    .dataframe tbody tr th:only-of-type {\n",
              "        vertical-align: middle;\n",
              "    }\n",
              "\n",
              "    .dataframe tbody tr th {\n",
              "        vertical-align: top;\n",
              "    }\n",
              "\n",
              "    .dataframe thead th {\n",
              "        text-align: right;\n",
              "    }\n",
              "</style>\n",
              "<table border=\"1\" class=\"dataframe\">\n",
              "  <thead>\n",
              "    <tr style=\"text-align: right;\">\n",
              "      <th></th>\n",
              "      <th>0</th>\n",
              "      <th>1</th>\n",
              "      <th>2</th>\n",
              "      <th>3</th>\n",
              "      <th>4</th>\n",
              "      <th>5</th>\n",
              "    </tr>\n",
              "  </thead>\n",
              "  <tbody>\n",
              "    <tr>\n",
              "      <th>0</th>\n",
              "      <td>-0.445407</td>\n",
              "      <td>-2.510272</td>\n",
              "      <td>-0.760003</td>\n",
              "      <td>-0.356950</td>\n",
              "      <td>-0.328138</td>\n",
              "      <td>0.042454</td>\n",
              "    </tr>\n",
              "    <tr>\n",
              "      <th>1</th>\n",
              "      <td>-3.963101</td>\n",
              "      <td>0.188451</td>\n",
              "      <td>0.817180</td>\n",
              "      <td>0.919068</td>\n",
              "      <td>0.006317</td>\n",
              "      <td>-0.574584</td>\n",
              "    </tr>\n",
              "    <tr>\n",
              "      <th>2</th>\n",
              "      <td>1.302356</td>\n",
              "      <td>1.899049</td>\n",
              "      <td>-2.626775</td>\n",
              "      <td>-1.430400</td>\n",
              "      <td>-0.942279</td>\n",
              "      <td>-0.563257</td>\n",
              "    </tr>\n",
              "    <tr>\n",
              "      <th>3</th>\n",
              "      <td>-1.120625</td>\n",
              "      <td>1.213405</td>\n",
              "      <td>-2.319355</td>\n",
              "      <td>-1.466779</td>\n",
              "      <td>-0.106320</td>\n",
              "      <td>1.433882</td>\n",
              "    </tr>\n",
              "    <tr>\n",
              "      <th>4</th>\n",
              "      <td>-1.368763</td>\n",
              "      <td>0.103096</td>\n",
              "      <td>-2.676027</td>\n",
              "      <td>-0.553731</td>\n",
              "      <td>-0.755344</td>\n",
              "      <td>-0.682730</td>\n",
              "    </tr>\n",
              "  </tbody>\n",
              "</table>\n",
              "</div>"
            ],
            "text/plain": [
              "          0         1         2         3         4         5\n",
              "0 -0.445407 -2.510272 -0.760003 -0.356950 -0.328138  0.042454\n",
              "1 -3.963101  0.188451  0.817180  0.919068  0.006317 -0.574584\n",
              "2  1.302356  1.899049 -2.626775 -1.430400 -0.942279 -0.563257\n",
              "3 -1.120625  1.213405 -2.319355 -1.466779 -0.106320  1.433882\n",
              "4 -1.368763  0.103096 -2.676027 -0.553731 -0.755344 -0.682730"
            ]
          },
          "metadata": {
            "tags": []
          },
          "execution_count": 41
        }
      ]
    },
    {
      "cell_type": "code",
      "metadata": {
        "id": "hZMFtEKOy8dt",
        "colab_type": "code",
        "colab": {
          "base_uri": "https://localhost:8080/",
          "height": 136
        },
        "outputId": "40269ea3-bc2f-44ea-9952-43b27dcd9e95"
      },
      "source": [
        "col_list=cr_dummy.columns\n",
        "col_list"
      ],
      "execution_count": 42,
      "outputs": [
        {
          "output_type": "execute_result",
          "data": {
            "text/plain": [
              "Index(['BALANCE_FREQUENCY', 'ONEOFF_PURCHASES', 'INSTALLMENTS_PURCHASES',\n",
              "       'PURCHASES_FREQUENCY', 'ONEOFF_PURCHASES_FREQUENCY',\n",
              "       'PURCHASES_INSTALLMENTS_FREQUENCY', 'CASH_ADVANCE_FREQUENCY',\n",
              "       'CASH_ADVANCE_TRX', 'PURCHASES_TRX', 'Monthly_avg_purchase',\n",
              "       'Monthly_cash_advance', 'payment_minpay', 'both_oneoff_installment',\n",
              "       'istallment', 'none', 'one_off'],\n",
              "      dtype='object')"
            ]
          },
          "metadata": {
            "tags": []
          },
          "execution_count": 42
        }
      ]
    },
    {
      "cell_type": "code",
      "metadata": {
        "id": "vQc0U1mGzJbb",
        "colab_type": "code",
        "colab": {
          "base_uri": "https://localhost:8080/",
          "height": 545
        },
        "outputId": "d8f1dd7d-1337-4ec8-f6aa-5846569f4cea"
      },
      "source": [
        "pd.DataFrame(pc_final.components_.T, columns=['PC_' +str(i) for i in range(6)],index=col_list)"
      ],
      "execution_count": 43,
      "outputs": [
        {
          "output_type": "execute_result",
          "data": {
            "text/html": [
              "<div>\n",
              "<style scoped>\n",
              "    .dataframe tbody tr th:only-of-type {\n",
              "        vertical-align: middle;\n",
              "    }\n",
              "\n",
              "    .dataframe tbody tr th {\n",
              "        vertical-align: top;\n",
              "    }\n",
              "\n",
              "    .dataframe thead th {\n",
              "        text-align: right;\n",
              "    }\n",
              "</style>\n",
              "<table border=\"1\" class=\"dataframe\">\n",
              "  <thead>\n",
              "    <tr style=\"text-align: right;\">\n",
              "      <th></th>\n",
              "      <th>PC_0</th>\n",
              "      <th>PC_1</th>\n",
              "      <th>PC_2</th>\n",
              "      <th>PC_3</th>\n",
              "      <th>PC_4</th>\n",
              "      <th>PC_5</th>\n",
              "    </tr>\n",
              "  </thead>\n",
              "  <tbody>\n",
              "    <tr>\n",
              "      <th>BALANCE_FREQUENCY</th>\n",
              "      <td>0.044578</td>\n",
              "      <td>0.165818</td>\n",
              "      <td>0.269513</td>\n",
              "      <td>-0.264321</td>\n",
              "      <td>-0.543260</td>\n",
              "      <td>-0.672686</td>\n",
              "    </tr>\n",
              "    <tr>\n",
              "      <th>ONEOFF_PURCHASES</th>\n",
              "      <td>0.221448</td>\n",
              "      <td>0.440820</td>\n",
              "      <td>-0.156637</td>\n",
              "      <td>0.015302</td>\n",
              "      <td>-0.016032</td>\n",
              "      <td>0.129115</td>\n",
              "    </tr>\n",
              "    <tr>\n",
              "      <th>INSTALLMENTS_PURCHASES</th>\n",
              "      <td>0.316924</td>\n",
              "      <td>-0.169205</td>\n",
              "      <td>0.283776</td>\n",
              "      <td>0.067357</td>\n",
              "      <td>0.047355</td>\n",
              "      <td>0.112619</td>\n",
              "    </tr>\n",
              "    <tr>\n",
              "      <th>PURCHASES_FREQUENCY</th>\n",
              "      <td>0.351833</td>\n",
              "      <td>-0.031453</td>\n",
              "      <td>0.144179</td>\n",
              "      <td>-0.142127</td>\n",
              "      <td>0.031055</td>\n",
              "      <td>-0.079586</td>\n",
              "    </tr>\n",
              "    <tr>\n",
              "      <th>ONEOFF_PURCHASES_FREQUENCY</th>\n",
              "      <td>0.221637</td>\n",
              "      <td>0.384754</td>\n",
              "      <td>-0.085531</td>\n",
              "      <td>0.047451</td>\n",
              "      <td>-0.040705</td>\n",
              "      <td>-0.095403</td>\n",
              "    </tr>\n",
              "    <tr>\n",
              "      <th>PURCHASES_INSTALLMENTS_FREQUENCY</th>\n",
              "      <td>0.300462</td>\n",
              "      <td>-0.186736</td>\n",
              "      <td>0.290743</td>\n",
              "      <td>-0.012153</td>\n",
              "      <td>0.015274</td>\n",
              "      <td>0.007074</td>\n",
              "    </tr>\n",
              "    <tr>\n",
              "      <th>CASH_ADVANCE_FREQUENCY</th>\n",
              "      <td>-0.207174</td>\n",
              "      <td>0.247415</td>\n",
              "      <td>0.379036</td>\n",
              "      <td>-0.202165</td>\n",
              "      <td>0.247439</td>\n",
              "      <td>0.068105</td>\n",
              "    </tr>\n",
              "    <tr>\n",
              "      <th>CASH_ADVANCE_TRX</th>\n",
              "      <td>-0.221858</td>\n",
              "      <td>0.251450</td>\n",
              "      <td>0.386250</td>\n",
              "      <td>-0.179375</td>\n",
              "      <td>0.232752</td>\n",
              "      <td>0.083279</td>\n",
              "    </tr>\n",
              "    <tr>\n",
              "      <th>PURCHASES_TRX</th>\n",
              "      <td>0.363098</td>\n",
              "      <td>0.069195</td>\n",
              "      <td>0.103554</td>\n",
              "      <td>-0.109514</td>\n",
              "      <td>0.051705</td>\n",
              "      <td>-0.009717</td>\n",
              "    </tr>\n",
              "    <tr>\n",
              "      <th>Monthly_avg_purchase</th>\n",
              "      <td>0.352345</td>\n",
              "      <td>0.128697</td>\n",
              "      <td>-0.015668</td>\n",
              "      <td>-0.161994</td>\n",
              "      <td>0.138381</td>\n",
              "      <td>0.012501</td>\n",
              "    </tr>\n",
              "    <tr>\n",
              "      <th>Monthly_cash_advance</th>\n",
              "      <td>-0.237524</td>\n",
              "      <td>0.230670</td>\n",
              "      <td>0.354014</td>\n",
              "      <td>-0.106425</td>\n",
              "      <td>0.212724</td>\n",
              "      <td>0.057790</td>\n",
              "    </tr>\n",
              "    <tr>\n",
              "      <th>payment_minpay</th>\n",
              "      <td>0.111471</td>\n",
              "      <td>0.074132</td>\n",
              "      <td>-0.061487</td>\n",
              "      <td>0.435660</td>\n",
              "      <td>0.621960</td>\n",
              "      <td>-0.597820</td>\n",
              "    </tr>\n",
              "    <tr>\n",
              "      <th>both_oneoff_installment</th>\n",
              "      <td>0.250250</td>\n",
              "      <td>0.243532</td>\n",
              "      <td>0.202541</td>\n",
              "      <td>0.372789</td>\n",
              "      <td>-0.172355</td>\n",
              "      <td>0.296137</td>\n",
              "    </tr>\n",
              "    <tr>\n",
              "      <th>istallment</th>\n",
              "      <td>0.077064</td>\n",
              "      <td>-0.489166</td>\n",
              "      <td>0.087807</td>\n",
              "      <td>-0.332917</td>\n",
              "      <td>0.218539</td>\n",
              "      <td>-0.089231</td>\n",
              "    </tr>\n",
              "    <tr>\n",
              "      <th>none</th>\n",
              "      <td>-0.312838</td>\n",
              "      <td>-0.004440</td>\n",
              "      <td>0.131060</td>\n",
              "      <td>0.370764</td>\n",
              "      <td>-0.177544</td>\n",
              "      <td>-0.175518</td>\n",
              "    </tr>\n",
              "    <tr>\n",
              "      <th>one_off</th>\n",
              "      <td>-0.044076</td>\n",
              "      <td>0.250098</td>\n",
              "      <td>-0.459153</td>\n",
              "      <td>-0.450649</td>\n",
              "      <td>0.145670</td>\n",
              "      <td>-0.060295</td>\n",
              "    </tr>\n",
              "  </tbody>\n",
              "</table>\n",
              "</div>"
            ],
            "text/plain": [
              "                                      PC_0      PC_1      PC_2      PC_3  \\\n",
              "BALANCE_FREQUENCY                 0.044578  0.165818  0.269513 -0.264321   \n",
              "ONEOFF_PURCHASES                  0.221448  0.440820 -0.156637  0.015302   \n",
              "INSTALLMENTS_PURCHASES            0.316924 -0.169205  0.283776  0.067357   \n",
              "PURCHASES_FREQUENCY               0.351833 -0.031453  0.144179 -0.142127   \n",
              "ONEOFF_PURCHASES_FREQUENCY        0.221637  0.384754 -0.085531  0.047451   \n",
              "PURCHASES_INSTALLMENTS_FREQUENCY  0.300462 -0.186736  0.290743 -0.012153   \n",
              "CASH_ADVANCE_FREQUENCY           -0.207174  0.247415  0.379036 -0.202165   \n",
              "CASH_ADVANCE_TRX                 -0.221858  0.251450  0.386250 -0.179375   \n",
              "PURCHASES_TRX                     0.363098  0.069195  0.103554 -0.109514   \n",
              "Monthly_avg_purchase              0.352345  0.128697 -0.015668 -0.161994   \n",
              "Monthly_cash_advance             -0.237524  0.230670  0.354014 -0.106425   \n",
              "payment_minpay                    0.111471  0.074132 -0.061487  0.435660   \n",
              "both_oneoff_installment           0.250250  0.243532  0.202541  0.372789   \n",
              "istallment                        0.077064 -0.489166  0.087807 -0.332917   \n",
              "none                             -0.312838 -0.004440  0.131060  0.370764   \n",
              "one_off                          -0.044076  0.250098 -0.459153 -0.450649   \n",
              "\n",
              "                                      PC_4      PC_5  \n",
              "BALANCE_FREQUENCY                -0.543260 -0.672686  \n",
              "ONEOFF_PURCHASES                 -0.016032  0.129115  \n",
              "INSTALLMENTS_PURCHASES            0.047355  0.112619  \n",
              "PURCHASES_FREQUENCY               0.031055 -0.079586  \n",
              "ONEOFF_PURCHASES_FREQUENCY       -0.040705 -0.095403  \n",
              "PURCHASES_INSTALLMENTS_FREQUENCY  0.015274  0.007074  \n",
              "CASH_ADVANCE_FREQUENCY            0.247439  0.068105  \n",
              "CASH_ADVANCE_TRX                  0.232752  0.083279  \n",
              "PURCHASES_TRX                     0.051705 -0.009717  \n",
              "Monthly_avg_purchase              0.138381  0.012501  \n",
              "Monthly_cash_advance              0.212724  0.057790  \n",
              "payment_minpay                    0.621960 -0.597820  \n",
              "both_oneoff_installment          -0.172355  0.296137  \n",
              "istallment                        0.218539 -0.089231  \n",
              "none                             -0.177544 -0.175518  \n",
              "one_off                           0.145670 -0.060295  "
            ]
          },
          "metadata": {
            "tags": []
          },
          "execution_count": 43
        }
      ]
    },
    {
      "cell_type": "markdown",
      "metadata": {
        "id": "jlKKbcCCzS_R",
        "colab_type": "text"
      },
      "source": [
        "### Clustering\n",
        "\n",
        "* starting with 4 clusters."
      ]
    },
    {
      "cell_type": "code",
      "metadata": {
        "id": "MDwwBxp7zLcO",
        "colab_type": "code",
        "colab": {
          "base_uri": "https://localhost:8080/",
          "height": 68
        },
        "outputId": "197a5a50-273f-4dc5-e561-b6902485a084"
      },
      "source": [
        "from sklearn.cluster import KMeans\n",
        "km_4=KMeans(n_clusters=4,random_state=123)\n",
        "km_4.fit(reduced_cr)"
      ],
      "execution_count": 44,
      "outputs": [
        {
          "output_type": "execute_result",
          "data": {
            "text/plain": [
              "KMeans(algorithm='auto', copy_x=True, init='k-means++', max_iter=300,\n",
              "       n_clusters=4, n_init=10, n_jobs=None, precompute_distances='auto',\n",
              "       random_state=123, tol=0.0001, verbose=0)"
            ]
          },
          "metadata": {
            "tags": []
          },
          "execution_count": 44
        }
      ]
    },
    {
      "cell_type": "code",
      "metadata": {
        "id": "Sxi_mMZ1zcax",
        "colab_type": "code",
        "colab": {
          "base_uri": "https://localhost:8080/",
          "height": 102
        },
        "outputId": "51dc6935-a073-47a9-e038-c1ec57e3bd30"
      },
      "source": [
        "km_4.labels_\n",
        "pd.Series(km_4.labels_).value_counts()"
      ],
      "execution_count": 45,
      "outputs": [
        {
          "output_type": "execute_result",
          "data": {
            "text/plain": [
              "1    2769\n",
              "2    2232\n",
              "0    2078\n",
              "3    1871\n",
              "dtype: int64"
            ]
          },
          "metadata": {
            "tags": []
          },
          "execution_count": 45
        }
      ]
    },
    {
      "cell_type": "markdown",
      "metadata": {
        "id": "LzeY93Bhzn-y",
        "colab_type": "text"
      },
      "source": [
        "* cluster_range = range( 1, 21 )Here we donot have known k value so we will find the K. To do that we need to take a cluster range between 1 and 21."
      ]
    },
    {
      "cell_type": "code",
      "metadata": {
        "id": "JQsWVXaCzkQV",
        "colab_type": "code",
        "colab": {
          "base_uri": "https://localhost:8080/",
          "height": 669
        },
        "outputId": "c2078e82-ad05-4e08-a413-ef51fbd8b2cc"
      },
      "source": [
        "cluster_range = range( 1, 21 )\n",
        "cluster_errors = []\n",
        "\n",
        "for num_clusters in cluster_range:\n",
        "    clusters = KMeans( num_clusters )\n",
        "    clusters.fit( reduced_cr )\n",
        "    cluster_errors.append( clusters.inertia_ )# clusters.inertia_ is basically cluster error here.\n",
        "clusters_df = pd.DataFrame( { \"num_clusters\":cluster_range, \"cluster_errors\": cluster_errors } )\n",
        "\n",
        "clusters_df[0:21]"
      ],
      "execution_count": 47,
      "outputs": [
        {
          "output_type": "execute_result",
          "data": {
            "text/html": [
              "<div>\n",
              "<style scoped>\n",
              "    .dataframe tbody tr th:only-of-type {\n",
              "        vertical-align: middle;\n",
              "    }\n",
              "\n",
              "    .dataframe tbody tr th {\n",
              "        vertical-align: top;\n",
              "    }\n",
              "\n",
              "    .dataframe thead th {\n",
              "        text-align: right;\n",
              "    }\n",
              "</style>\n",
              "<table border=\"1\" class=\"dataframe\">\n",
              "  <thead>\n",
              "    <tr style=\"text-align: right;\">\n",
              "      <th></th>\n",
              "      <th>num_clusters</th>\n",
              "      <th>cluster_errors</th>\n",
              "    </tr>\n",
              "  </thead>\n",
              "  <tbody>\n",
              "    <tr>\n",
              "      <th>0</th>\n",
              "      <td>1</td>\n",
              "      <td>134035.500253</td>\n",
              "    </tr>\n",
              "    <tr>\n",
              "      <th>1</th>\n",
              "      <td>2</td>\n",
              "      <td>88425.778423</td>\n",
              "    </tr>\n",
              "    <tr>\n",
              "      <th>2</th>\n",
              "      <td>3</td>\n",
              "      <td>65866.867818</td>\n",
              "    </tr>\n",
              "    <tr>\n",
              "      <th>3</th>\n",
              "      <td>4</td>\n",
              "      <td>44631.748778</td>\n",
              "    </tr>\n",
              "    <tr>\n",
              "      <th>4</th>\n",
              "      <td>5</td>\n",
              "      <td>38307.521244</td>\n",
              "    </tr>\n",
              "    <tr>\n",
              "      <th>5</th>\n",
              "      <td>6</td>\n",
              "      <td>33882.667084</td>\n",
              "    </tr>\n",
              "    <tr>\n",
              "      <th>6</th>\n",
              "      <td>7</td>\n",
              "      <td>30579.806925</td>\n",
              "    </tr>\n",
              "    <tr>\n",
              "      <th>7</th>\n",
              "      <td>8</td>\n",
              "      <td>27923.672701</td>\n",
              "    </tr>\n",
              "    <tr>\n",
              "      <th>8</th>\n",
              "      <td>9</td>\n",
              "      <td>26276.989480</td>\n",
              "    </tr>\n",
              "    <tr>\n",
              "      <th>9</th>\n",
              "      <td>10</td>\n",
              "      <td>23696.080027</td>\n",
              "    </tr>\n",
              "    <tr>\n",
              "      <th>10</th>\n",
              "      <td>11</td>\n",
              "      <td>21637.560490</td>\n",
              "    </tr>\n",
              "    <tr>\n",
              "      <th>11</th>\n",
              "      <td>12</td>\n",
              "      <td>20006.682204</td>\n",
              "    </tr>\n",
              "    <tr>\n",
              "      <th>12</th>\n",
              "      <td>13</td>\n",
              "      <td>18760.744043</td>\n",
              "    </tr>\n",
              "    <tr>\n",
              "      <th>13</th>\n",
              "      <td>14</td>\n",
              "      <td>17887.494067</td>\n",
              "    </tr>\n",
              "    <tr>\n",
              "      <th>14</th>\n",
              "      <td>15</td>\n",
              "      <td>17213.059690</td>\n",
              "    </tr>\n",
              "    <tr>\n",
              "      <th>15</th>\n",
              "      <td>16</td>\n",
              "      <td>16453.027771</td>\n",
              "    </tr>\n",
              "    <tr>\n",
              "      <th>16</th>\n",
              "      <td>17</td>\n",
              "      <td>15950.509991</td>\n",
              "    </tr>\n",
              "    <tr>\n",
              "      <th>17</th>\n",
              "      <td>18</td>\n",
              "      <td>15407.152892</td>\n",
              "    </tr>\n",
              "    <tr>\n",
              "      <th>18</th>\n",
              "      <td>19</td>\n",
              "      <td>14774.698156</td>\n",
              "    </tr>\n",
              "    <tr>\n",
              "      <th>19</th>\n",
              "      <td>20</td>\n",
              "      <td>14218.308795</td>\n",
              "    </tr>\n",
              "  </tbody>\n",
              "</table>\n",
              "</div>"
            ],
            "text/plain": [
              "    num_clusters  cluster_errors\n",
              "0              1   134035.500253\n",
              "1              2    88425.778423\n",
              "2              3    65866.867818\n",
              "3              4    44631.748778\n",
              "4              5    38307.521244\n",
              "5              6    33882.667084\n",
              "6              7    30579.806925\n",
              "7              8    27923.672701\n",
              "8              9    26276.989480\n",
              "9             10    23696.080027\n",
              "10            11    21637.560490\n",
              "11            12    20006.682204\n",
              "12            13    18760.744043\n",
              "13            14    17887.494067\n",
              "14            15    17213.059690\n",
              "15            16    16453.027771\n",
              "16            17    15950.509991\n",
              "17            18    15407.152892\n",
              "18            19    14774.698156\n",
              "19            20    14218.308795"
            ]
          },
          "metadata": {
            "tags": []
          },
          "execution_count": 47
        }
      ]
    },
    {
      "cell_type": "code",
      "metadata": {
        "id": "WyLyZelmztRI",
        "colab_type": "code",
        "colab": {
          "base_uri": "https://localhost:8080/",
          "height": 401
        },
        "outputId": "14652f07-ab1e-4ee6-9d6d-48c2c20c149c"
      },
      "source": [
        "# allow plots to appear in the notebook\n",
        "%matplotlib inline\n",
        "import matplotlib.pyplot as plt\n",
        "plt.figure(figsize=(12,6))\n",
        "plt.plot( clusters_df.num_clusters, clusters_df.cluster_errors, marker = \"o\" )"
      ],
      "execution_count": 48,
      "outputs": [
        {
          "output_type": "execute_result",
          "data": {
            "text/plain": [
              "[<matplotlib.lines.Line2D at 0x7f6e8f047518>]"
            ]
          },
          "metadata": {
            "tags": []
          },
          "execution_count": 48
        },
        {
          "output_type": "display_data",
          "data": {
            "image/png": "[encoded data removed]",
            "text/plain": [
              "<Figure size 864x432 with 1 Axes>"
            ]
          },
          "metadata": {
            "tags": [],
            "needs_background": "light"
          }
        }
      ]
    },
    {
      "cell_type": "code",
      "metadata": {
        "id": "hiNl9pT-z3oh",
        "colab_type": "code",
        "colab": {
          "base_uri": "https://localhost:8080/",
          "height": 119
        },
        "outputId": "a8ac0cd5-994e-4039-e815-17fb8d167b01"
      },
      "source": [
        "km_5=KMeans(n_clusters=5,random_state=123)\n",
        "km_5=km_5.fit(reduced_cr)\n",
        "km_5.labels_\n",
        "pd.Series(km_5.labels_).value_counts()"
      ],
      "execution_count": 49,
      "outputs": [
        {
          "output_type": "execute_result",
          "data": {
            "text/plain": [
              "3    2181\n",
              "1    2073\n",
              "0    1984\n",
              "2    1864\n",
              "4     848\n",
              "dtype: int64"
            ]
          },
          "metadata": {
            "tags": []
          },
          "execution_count": 49
        }
      ]
    },
    {
      "cell_type": "code",
      "metadata": {
        "id": "kJDZ5-Ik0ftN",
        "colab_type": "code",
        "colab": {
          "base_uri": "https://localhost:8080/",
          "height": 469
        },
        "outputId": "0b3c0cd1-8293-4cdf-c004-96604e709112"
      },
      "source": [
        "plt.figure(figsize=(7,7))\n",
        "plt.scatter(reduced_cr[:,0],reduced_cr[:,1],c=km_5.labels_,cmap='Spectral',alpha=0.5)\n",
        "plt.xlabel('PC_0')\n",
        "plt.ylabel('PC_1')"
      ],
      "execution_count": 50,
      "outputs": [
        {
          "output_type": "execute_result",
          "data": {
            "text/plain": [
              "Text(0, 0.5, 'PC_1')"
            ]
          },
          "metadata": {
            "tags": []
          },
          "execution_count": 50
        },
        {
          "output_type": "display_data",
          "data": {
            "image/png": "[encoded data removed]",
            "text/plain": [
              "<Figure size 504x504 with 1 Axes>"
            ]
          },
          "metadata": {
            "tags": [],
            "needs_background": "light"
          }
        }
      ]
    },
    {
      "cell_type": "code",
      "metadata": {
        "id": "dfdwpOy80hpP",
        "colab_type": "code",
        "colab": {}
      },
      "source": [
        "col_kpi=['PURCHASES_TRX','Monthly_avg_purchase','Monthly_cash_advance','CASH_ADVANCE_TRX',\n",
        "         'payment_minpay','both_oneoff_installment','istallment','one_off','none','CREDIT_LIMIT']\n",
        "cluster_df_5=pd.concat([cre_original[col_kpi],pd.Series(km_5.labels_,name='Cluster_5')],axis=1)"
      ],
      "execution_count": 53,
      "outputs": []
    },
    {
      "cell_type": "code",
      "metadata": {
        "id": "YPISXBBx081Q",
        "colab_type": "code",
        "colab": {
          "base_uri": "https://localhost:8080/",
          "height": 359
        },
        "outputId": "124ff668-c483-4920-dbab-3a7a89b91189"
      },
      "source": [
        "# Finding Mean of features for each cluster\n",
        "cluster_5 = cluster_df_5.groupby('Cluster_5')\\\n",
        ".apply(lambda x: x[col_kpi].mean()).T\n",
        "cluster_5"
      ],
      "execution_count": 58,
      "outputs": [
        {
          "output_type": "execute_result",
          "data": {
            "text/html": [
              "<div>\n",
              "<style scoped>\n",
              "    .dataframe tbody tr th:only-of-type {\n",
              "        vertical-align: middle;\n",
              "    }\n",
              "\n",
              "    .dataframe tbody tr th {\n",
              "        vertical-align: top;\n",
              "    }\n",
              "\n",
              "    .dataframe thead th {\n",
              "        text-align: right;\n",
              "    }\n",
              "</style>\n",
              "<table border=\"1\" class=\"dataframe\">\n",
              "  <thead>\n",
              "    <tr style=\"text-align: right;\">\n",
              "      <th>Cluster_5</th>\n",
              "      <th>0</th>\n",
              "      <th>1</th>\n",
              "      <th>2</th>\n",
              "      <th>3</th>\n",
              "      <th>4</th>\n",
              "    </tr>\n",
              "  </thead>\n",
              "  <tbody>\n",
              "    <tr>\n",
              "      <th>PURCHASES_TRX</th>\n",
              "      <td>34.501008</td>\n",
              "      <td>0.024120</td>\n",
              "      <td>7.086910</td>\n",
              "      <td>11.917011</td>\n",
              "      <td>28.245283</td>\n",
              "    </tr>\n",
              "    <tr>\n",
              "      <th>Monthly_avg_purchase</th>\n",
              "      <td>209.169344</td>\n",
              "      <td>0.064284</td>\n",
              "      <td>68.846861</td>\n",
              "      <td>47.287449</td>\n",
              "      <td>147.026040</td>\n",
              "    </tr>\n",
              "    <tr>\n",
              "      <th>Monthly_cash_advance</th>\n",
              "      <td>3.760209</td>\n",
              "      <td>185.211776</td>\n",
              "      <td>75.993788</td>\n",
              "      <td>23.616800</td>\n",
              "      <td>249.750029</td>\n",
              "    </tr>\n",
              "    <tr>\n",
              "      <th>CASH_ADVANCE_TRX</th>\n",
              "      <td>0.142137</td>\n",
              "      <td>6.446213</td>\n",
              "      <td>2.773605</td>\n",
              "      <td>0.665750</td>\n",
              "      <td>10.389151</td>\n",
              "    </tr>\n",
              "    <tr>\n",
              "      <th>payment_minpay</th>\n",
              "      <td>8.500536</td>\n",
              "      <td>9.990736</td>\n",
              "      <td>5.570556</td>\n",
              "      <td>13.611466</td>\n",
              "      <td>4.048983</td>\n",
              "    </tr>\n",
              "    <tr>\n",
              "      <th>both_oneoff_installment</th>\n",
              "      <td>1.000000</td>\n",
              "      <td>0.000000</td>\n",
              "      <td>0.000536</td>\n",
              "      <td>0.000000</td>\n",
              "      <td>0.930425</td>\n",
              "    </tr>\n",
              "    <tr>\n",
              "      <th>istallment</th>\n",
              "      <td>0.000000</td>\n",
              "      <td>0.013025</td>\n",
              "      <td>0.000000</td>\n",
              "      <td>1.000000</td>\n",
              "      <td>0.061321</td>\n",
              "    </tr>\n",
              "    <tr>\n",
              "      <th>one_off</th>\n",
              "      <td>0.000000</td>\n",
              "      <td>0.001930</td>\n",
              "      <td>0.999464</td>\n",
              "      <td>0.000000</td>\n",
              "      <td>0.008255</td>\n",
              "    </tr>\n",
              "    <tr>\n",
              "      <th>none</th>\n",
              "      <td>0.000000</td>\n",
              "      <td>0.985046</td>\n",
              "      <td>0.000000</td>\n",
              "      <td>0.000000</td>\n",
              "      <td>0.000000</td>\n",
              "    </tr>\n",
              "    <tr>\n",
              "      <th>CREDIT_LIMIT</th>\n",
              "      <td>5679.139581</td>\n",
              "      <td>4049.622126</td>\n",
              "      <td>4501.521004</td>\n",
              "      <td>3251.863083</td>\n",
              "      <td>5988.679245</td>\n",
              "    </tr>\n",
              "  </tbody>\n",
              "</table>\n",
              "</div>"
            ],
            "text/plain": [
              "Cluster_5                          0            1            2            3  \\\n",
              "PURCHASES_TRX              34.501008     0.024120     7.086910    11.917011   \n",
              "Monthly_avg_purchase      209.169344     0.064284    68.846861    47.287449   \n",
              "Monthly_cash_advance        3.760209   185.211776    75.993788    23.616800   \n",
              "CASH_ADVANCE_TRX            0.142137     6.446213     2.773605     0.665750   \n",
              "payment_minpay              8.500536     9.990736     5.570556    13.611466   \n",
              "both_oneoff_installment     1.000000     0.000000     0.000536     0.000000   \n",
              "istallment                  0.000000     0.013025     0.000000     1.000000   \n",
              "one_off                     0.000000     0.001930     0.999464     0.000000   \n",
              "none                        0.000000     0.985046     0.000000     0.000000   \n",
              "CREDIT_LIMIT             5679.139581  4049.622126  4501.521004  3251.863083   \n",
              "\n",
              "Cluster_5                          4  \n",
              "PURCHASES_TRX              28.245283  \n",
              "Monthly_avg_purchase      147.026040  \n",
              "Monthly_cash_advance      249.750029  \n",
              "CASH_ADVANCE_TRX           10.389151  \n",
              "payment_minpay              4.048983  \n",
              "both_oneoff_installment     0.930425  \n",
              "istallment                  0.061321  \n",
              "one_off                     0.008255  \n",
              "none                        0.000000  \n",
              "CREDIT_LIMIT             5988.679245  "
            ]
          },
          "metadata": {
            "tags": []
          },
          "execution_count": 58
        }
      ]
    },
    {
      "cell_type": "code",
      "metadata": {
        "id": "V0fNmrpb1LSB",
        "colab_type": "code",
        "colab": {
          "base_uri": "https://localhost:8080/",
          "height": 648
        },
        "outputId": "a5e8a9f0-4bc4-44fb-8cce-98c4afeadefd"
      },
      "source": [
        "fig,ax=plt.subplots(figsize=(15,10))\n",
        "index=np.arange(len(cluster_5.columns))\n",
        "\n",
        "cash_advance=np.log(cluster_5.loc['Monthly_cash_advance',:].values)\n",
        "#credit_score=(cluster_5.loc['limit_usage',:].values)\n",
        "purchase= np.log(cluster_5.loc['Monthly_avg_purchase',:].values)\n",
        "payment=cluster_5.loc['payment_minpay',:].values\n",
        "installment=cluster_5.loc['istallment',:].values\n",
        "one_off=cluster_5.loc['one_off',:].values\n",
        "\n",
        "\n",
        "bar_width=.10\n",
        "b1=plt.bar(index,cash_advance,color='b',label='Monthly cash advance',width=bar_width)\n",
        "#b2=plt.bar(index+bar_width,credit_score,color='m',label='Credit_score',width=bar_width)\n",
        "b3=plt.bar(index+2*bar_width,purchase,color='k',label='Avg purchase',width=bar_width)\n",
        "b4=plt.bar(index+3*bar_width,payment,color='c',label='Payment-minpayment ratio',width=bar_width)\n",
        "b5=plt.bar(index+4*bar_width,installment,color='r',label='installment',width=bar_width)\n",
        "b6=plt.bar(index+5*bar_width,one_off,color='g',label='One_off purchase',width=bar_width)\n",
        "\n",
        "plt.xlabel(\"Cluster\")\n",
        "plt.title(\"Insights\")\n",
        "plt.xticks(index + bar_width, ('Cl-0', 'Cl-1', 'Cl-2', 'Cl-3'))\n",
        "plt.legend()"
      ],
      "execution_count": 61,
      "outputs": [
        {
          "output_type": "execute_result",
          "data": {
            "text/plain": [
              "<matplotlib.legend.Legend at 0x7f6e893ee400>"
            ]
          },
          "metadata": {
            "tags": []
          },
          "execution_count": 61
        },
        {
          "output_type": "display_data",
          "data": {
            "image/png": "[encoded data removed]",
            "text/plain": [
              "<Figure size 1080x720 with 1 Axes>"
            ]
          },
          "metadata": {
            "tags": [],
            "needs_background": "light"
          }
        }
      ]
    },
    {
      "cell_type": "markdown",
      "metadata": {
        "id": "swKaK-8Q3piT",
        "colab_type": "text"
      },
      "source": [
        "#### Performing for k=4\n"
      ]
    },
    {
      "cell_type": "code",
      "metadata": {
        "id": "r9ExTSsR3tOQ",
        "colab_type": "code",
        "colab": {
          "base_uri": "https://localhost:8080/",
          "height": 102
        },
        "outputId": "56d0baa5-373d-452b-85ea-a1ca1badde1b"
      },
      "source": [
        "km_4=KMeans(n_clusters=4,random_state=123)\n",
        "km_4=km_4.fit(reduced_cr)\n",
        "km_4.labels_\n",
        "pd.Series(km_4.labels_).value_counts()"
      ],
      "execution_count": 62,
      "outputs": [
        {
          "output_type": "execute_result",
          "data": {
            "text/plain": [
              "1    2769\n",
              "2    2232\n",
              "0    2078\n",
              "3    1871\n",
              "dtype: int64"
            ]
          },
          "metadata": {
            "tags": []
          },
          "execution_count": 62
        }
      ]
    },
    {
      "cell_type": "code",
      "metadata": {
        "id": "cGjZX_pz30Bc",
        "colab_type": "code",
        "colab": {
          "base_uri": "https://localhost:8080/",
          "height": 469
        },
        "outputId": "6e99d3cf-d9df-428b-ae5a-22b32ea96abc"
      },
      "source": [
        "plt.figure(figsize=(7,7))\n",
        "plt.scatter(reduced_cr[:,0],reduced_cr[:,1],c=km_4.labels_,cmap='Spectral',alpha=0.5)\n",
        "plt.xlabel('PC_0')\n",
        "plt.ylabel('PC_1')"
      ],
      "execution_count": 63,
      "outputs": [
        {
          "output_type": "execute_result",
          "data": {
            "text/plain": [
              "Text(0, 0.5, 'PC_1')"
            ]
          },
          "metadata": {
            "tags": []
          },
          "execution_count": 63
        },
        {
          "output_type": "display_data",
          "data": {
            "image/png": "[encoded data removed]",
            "text/plain": [
              "<Figure size 504x504 with 1 Axes>"
            ]
          },
          "metadata": {
            "tags": [],
            "needs_background": "light"
          }
        }
      ]
    },
    {
      "cell_type": "code",
      "metadata": {
        "id": "tlQkGnCH4DLG",
        "colab_type": "code",
        "colab": {}
      },
      "source": [
        "cluster_df_4=pd.concat([cre_original[col_kpi],pd.Series(km_4.labels_,name='Cluster_4')],axis=1)"
      ],
      "execution_count": 64,
      "outputs": []
    },
    {
      "cell_type": "code",
      "metadata": {
        "id": "LoXcdroz4Xni",
        "colab_type": "code",
        "colab": {
          "base_uri": "https://localhost:8080/",
          "height": 359
        },
        "outputId": "9f83318b-f71e-421f-f2b7-a0ef8060b744"
      },
      "source": [
        "# Finding Mean of features for each cluster\n",
        "cluster_4 = cluster_df_4.groupby('Cluster_4')\\\n",
        ".apply(lambda x: x[col_kpi].mean()).T\n",
        "cluster_4"
      ],
      "execution_count": 65,
      "outputs": [
        {
          "output_type": "execute_result",
          "data": {
            "text/html": [
              "<div>\n",
              "<style scoped>\n",
              "    .dataframe tbody tr th:only-of-type {\n",
              "        vertical-align: middle;\n",
              "    }\n",
              "\n",
              "    .dataframe tbody tr th {\n",
              "        vertical-align: top;\n",
              "    }\n",
              "\n",
              "    .dataframe thead th {\n",
              "        text-align: right;\n",
              "    }\n",
              "</style>\n",
              "<table border=\"1\" class=\"dataframe\">\n",
              "  <thead>\n",
              "    <tr style=\"text-align: right;\">\n",
              "      <th>Cluster_4</th>\n",
              "      <th>0</th>\n",
              "      <th>1</th>\n",
              "      <th>2</th>\n",
              "      <th>3</th>\n",
              "    </tr>\n",
              "  </thead>\n",
              "  <tbody>\n",
              "    <tr>\n",
              "      <th>PURCHASES_TRX</th>\n",
              "      <td>0.032724</td>\n",
              "      <td>33.013723</td>\n",
              "      <td>12.028226</td>\n",
              "      <td>7.120791</td>\n",
              "    </tr>\n",
              "    <tr>\n",
              "      <th>Monthly_avg_purchase</th>\n",
              "      <td>0.095150</td>\n",
              "      <td>193.008043</td>\n",
              "      <td>47.500134</td>\n",
              "      <td>69.807860</td>\n",
              "    </tr>\n",
              "    <tr>\n",
              "      <th>Monthly_cash_advance</th>\n",
              "      <td>186.013463</td>\n",
              "      <td>67.466910</td>\n",
              "      <td>34.131987</td>\n",
              "      <td>78.470609</td>\n",
              "    </tr>\n",
              "    <tr>\n",
              "      <th>CASH_ADVANCE_TRX</th>\n",
              "      <td>6.509143</td>\n",
              "      <td>2.804261</td>\n",
              "      <td>1.049731</td>\n",
              "      <td>2.909139</td>\n",
              "    </tr>\n",
              "    <tr>\n",
              "      <th>payment_minpay</th>\n",
              "      <td>9.972791</td>\n",
              "      <td>7.245651</td>\n",
              "      <td>13.380287</td>\n",
              "      <td>5.573518</td>\n",
              "    </tr>\n",
              "    <tr>\n",
              "      <th>both_oneoff_installment</th>\n",
              "      <td>0.001925</td>\n",
              "      <td>1.000000</td>\n",
              "      <td>0.000000</td>\n",
              "      <td>0.000534</td>\n",
              "    </tr>\n",
              "    <tr>\n",
              "      <th>istallment</th>\n",
              "      <td>0.013474</td>\n",
              "      <td>0.000000</td>\n",
              "      <td>1.000000</td>\n",
              "      <td>0.000000</td>\n",
              "    </tr>\n",
              "    <tr>\n",
              "      <th>one_off</th>\n",
              "      <td>0.001925</td>\n",
              "      <td>0.000000</td>\n",
              "      <td>0.000000</td>\n",
              "      <td>0.999466</td>\n",
              "    </tr>\n",
              "    <tr>\n",
              "      <th>none</th>\n",
              "      <td>0.982676</td>\n",
              "      <td>0.000000</td>\n",
              "      <td>0.000000</td>\n",
              "      <td>0.000000</td>\n",
              "    </tr>\n",
              "    <tr>\n",
              "      <th>CREDIT_LIMIT</th>\n",
              "      <td>4050.946423</td>\n",
              "      <td>5736.732730</td>\n",
              "      <td>3344.136821</td>\n",
              "      <td>4519.954651</td>\n",
              "    </tr>\n",
              "  </tbody>\n",
              "</table>\n",
              "</div>"
            ],
            "text/plain": [
              "Cluster_4                          0            1            2            3\n",
              "PURCHASES_TRX               0.032724    33.013723    12.028226     7.120791\n",
              "Monthly_avg_purchase        0.095150   193.008043    47.500134    69.807860\n",
              "Monthly_cash_advance      186.013463    67.466910    34.131987    78.470609\n",
              "CASH_ADVANCE_TRX            6.509143     2.804261     1.049731     2.909139\n",
              "payment_minpay              9.972791     7.245651    13.380287     5.573518\n",
              "both_oneoff_installment     0.001925     1.000000     0.000000     0.000534\n",
              "istallment                  0.013474     0.000000     1.000000     0.000000\n",
              "one_off                     0.001925     0.000000     0.000000     0.999466\n",
              "none                        0.982676     0.000000     0.000000     0.000000\n",
              "CREDIT_LIMIT             4050.946423  5736.732730  3344.136821  4519.954651"
            ]
          },
          "metadata": {
            "tags": []
          },
          "execution_count": 65
        }
      ]
    },
    {
      "cell_type": "code",
      "metadata": {
        "id": "PPuBygdP4b_f",
        "colab_type": "code",
        "colab": {
          "base_uri": "https://localhost:8080/",
          "height": 648
        },
        "outputId": "30b265fa-c4aa-4648-f73e-e8c5f123587d"
      },
      "source": [
        "fig,ax=plt.subplots(figsize=(15,10))\n",
        "index=np.arange(len(cluster_4.columns))\n",
        "\n",
        "cash_advance=np.log(cluster_4.loc['Monthly_cash_advance',:].values)\n",
        "#credit_score=(cluster_4.loc['limit_usage',:].values)\n",
        "purchase= np.log(cluster_4.loc['Monthly_avg_purchase',:].values)\n",
        "payment=cluster_4.loc['payment_minpay',:].values\n",
        "installment=cluster_4.loc['istallment',:].values\n",
        "one_off=cluster_4.loc['one_off',:].values\n",
        "\n",
        "\n",
        "bar_width=.10\n",
        "b1=plt.bar(index,cash_advance,color='b',label='Monthly cash advance',width=bar_width)\n",
        "#b2=plt.bar(index+bar_width,credit_score,color='m',label='Credit_score',width=bar_width)\n",
        "b3=plt.bar(index+2*bar_width,purchase,color='k',label='Avg purchase',width=bar_width)\n",
        "b4=plt.bar(index+3*bar_width,payment,color='c',label='Payment-minpayment ratio',width=bar_width)\n",
        "b5=plt.bar(index+4*bar_width,installment,color='r',label='installment',width=bar_width)\n",
        "b6=plt.bar(index+5*bar_width,one_off,color='g',label='One_off purchase',width=bar_width)\n",
        "\n",
        "plt.xlabel(\"Cluster\")\n",
        "plt.title(\"Insights\")\n",
        "plt.xticks(index + bar_width, ('Cl-0', 'Cl-1', 'Cl-2', 'Cl-3'))\n",
        "plt.legend()"
      ],
      "execution_count": 66,
      "outputs": [
        {
          "output_type": "execute_result",
          "data": {
            "text/plain": [
              "<matplotlib.legend.Legend at 0x7f6e892d9c88>"
            ]
          },
          "metadata": {
            "tags": []
          },
          "execution_count": 66
        },
        {
          "output_type": "display_data",
          "data": {
            "image/png": "[encoded data removed]",
            "text/plain": [
              "<Figure size 1080x720 with 1 Axes>"
            ]
          },
          "metadata": {
            "tags": [],
            "needs_background": "light"
          }
        }
      ]
    }
  ]
}